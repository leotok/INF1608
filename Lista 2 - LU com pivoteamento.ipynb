{
 "cells": [
  {
   "cell_type": "markdown",
   "metadata": {
    "deletable": true,
    "editable": true
   },
   "source": [
    "## INF1608 - Análise Numérica - 2017.1\n",
    "## Departamento de Informática - PUC-Rio \n",
    "## Prof. Hélio Lopes - lopes@inf.puc-rio.br\n",
    "## http://www.inf.puc-rio.br/~lopes\n",
    "\n",
    "\n",
    "## Aluno: Leonardo Wajnsztok\n",
    "## Matrícula:  1312737\n",
    "## Lista 2\n",
    "\n",
    "1) Modifique a implementação da decomposição LU para incluir a permutação de linhas, obtendo a decomposição PA=LU.\n",
    "\n",
    "2) Implemente a função LUsolve que resolve o sistema Ax=b, tendo em mão a deomposição PA=LU.\n",
    "\n",
    "3) Utilize as implementações dos items 1 e 2 da lista para resolver o sistema Ax = b, onde:\n",
    "\n",
    "A = np.matrix([[1.,0.,0.,1.],[-1.,1.,0.,1.],[-1.,-1.,1.,1.],[-1.,-1.,-1.,1.]])\n",
    "e\n",
    "b = np.array([1.,1.,2.,0.])\n"
   ]
  },
  {
   "cell_type": "code",
   "execution_count": 1,
   "metadata": {
    "collapsed": true,
    "deletable": true,
    "editable": true
   },
   "outputs": [],
   "source": [
    "import numpy as np\n",
    "import matplotlib \n",
    "import matplotlib.pylab as plt\n",
    "\n",
    "%matplotlib inline"
   ]
  },
  {
   "cell_type": "code",
   "execution_count": 2,
   "metadata": {
    "collapsed": true
   },
   "outputs": [],
   "source": [
    "def LU_decomposition(a):\n",
    "    LU = np.copy(A)\n",
    "    n = len(A)\n",
    "\n",
    "    P = [i for i in range(n)]\n",
    "    for j in range(n):\n",
    "        max_id = max(range(j, n), key=lambda i: abs(A[P[i], j]))\n",
    "        if j != max_id:\n",
    "            P[j], P[max_id] = P[max_id], P[j]\n",
    "\n",
    "    for i in range(n):\n",
    "        LU[i,:] = A[P[i],:]\n",
    "    \n",
    "    for j in range(n-1):\n",
    "        for i in range(j+1,n):\n",
    "            LU[i][j] = LU[i][j]/LU[j][j]\n",
    "            for k in range(j+1,n):\n",
    "                LU[i][k] = LU[i][k] - LU[i][j]*LU[j][k]\n",
    "    return P, LU"
   ]
  },
  {
   "cell_type": "code",
   "execution_count": 3,
   "metadata": {
    "collapsed": true
   },
   "outputs": [],
   "source": [
    "def LU_forward_substitution(L, b):\n",
    "    n = len(L)\n",
    "    y = np.zeros(n)\n",
    "    y[0] = b[0]\n",
    "    for i in range(1,n):\n",
    "        y[i] = b[i]\n",
    "        for j in range(i):\n",
    "            y[i] = y[i] - L[i][j]*y[j]\n",
    "    return y\n",
    "\n",
    "    "
   ]
  },
  {
   "cell_type": "code",
   "execution_count": 4,
   "metadata": {
    "collapsed": true
   },
   "outputs": [],
   "source": [
    "def LU_backward_substitution(U, y):\n",
    "    n = len(U)\n",
    "    x = np.zeros(n)\n",
    "    x[n-1] = y[n-1]/U[n-1,n-1]\n",
    "    for i in range(n-2,-1,-1):\n",
    "        x[i] = y[i]\n",
    "        for j in range(i+1,n):\n",
    "            x[i] = x[i] - U[i][j]*x[j]\n",
    "        x[i] /= U[i][i]\n",
    "    return x"
   ]
  },
  {
   "cell_type": "code",
   "execution_count": 5,
   "metadata": {
    "collapsed": true
   },
   "outputs": [],
   "source": [
    "def LU_solve(P, LU, b):\n",
    "    n = len(P)\n",
    "    _b = np.copy(b)\n",
    "    for i in range(n):\n",
    "       b[i] = _b[P[i]] \n",
    "    \n",
    "    y = LU_forward_substitution(LU,b)\n",
    "    x = LU_backward_substitution(LU,y)\n",
    "    return x"
   ]
  },
  {
   "cell_type": "code",
   "execution_count": 8,
   "metadata": {
    "collapsed": false
   },
   "outputs": [
    {
     "name": "stdout",
     "output_type": "stream",
     "text": [
      "[[ 1.  0.  0.  1.]\n",
      " [-1.  1.  0.  1.]\n",
      " [-1. -1.  1.  1.]\n",
      " [-1. -1. -1.  1.]]\n",
      "[ 0.  0.  1.  1.]\n",
      "[0, 1, 2, 3]\n",
      "[[ 1.  0.  0.  1.]\n",
      " [-1.  1.  0.  2.]\n",
      " [-1. -1.  1.  4.]\n",
      " [-1. -1. -1.  8.]]\n",
      "[[ True  True  True  True]]\n"
     ]
    }
   ],
   "source": [
    "\n",
    "A = np.matrix([[1.,0.,0.,1.],[-1.,1.,0.,1.],[-1.,-1.,1.,1.],[-1.,-1.,-1.,1.]])\n",
    "b = np.array([1.,1.,2.,0.])\n",
    "print A\n",
    "\n",
    "P, LU = LU_decomposition(A)\n",
    "x = LU_solve(P, LU, b)\n",
    "\n",
    "print x\n",
    "print P\n",
    "print LU\n",
    "print np.dot(A, x) == b\n",
    "\n",
    "\n"
   ]
  },
  {
   "cell_type": "code",
   "execution_count": null,
   "metadata": {
    "collapsed": false
   },
   "outputs": [],
   "source": []
  },
  {
   "cell_type": "markdown",
   "metadata": {},
   "source": []
  }
 ],
 "metadata": {
  "kernelspec": {
   "display_name": "Python 2",
   "language": "python",
   "name": "python2"
  },
  "language_info": {
   "codemirror_mode": {
    "name": "ipython",
    "version": 2
   },
   "file_extension": ".py",
   "mimetype": "text/x-python",
   "name": "python",
   "nbconvert_exporter": "python",
   "pygments_lexer": "ipython2",
   "version": "2.7.12"
  }
 },
 "nbformat": 4,
 "nbformat_minor": 0
}
