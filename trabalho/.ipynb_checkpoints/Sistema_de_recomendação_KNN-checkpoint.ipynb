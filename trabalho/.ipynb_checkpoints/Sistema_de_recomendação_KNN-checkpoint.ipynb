{
 "cells": [
  {
   "cell_type": "markdown",
   "metadata": {
    "deletable": true,
    "editable": true
   },
   "source": [
    "# Sistema de recomendação com KNN\n",
    "### INF1608 - Análise Numérica\n",
    "### Aluno: Leonardo E. Wajnsztok\n",
    "### Matrícula: 1312737\n",
    "\n"
   ]
  },
  {
   "cell_type": "markdown",
   "metadata": {
    "deletable": true,
    "editable": true
   },
   "source": [
    "## Introdução\n",
    "\n",
    "Sistemas de recomendação é uma das áreas de Data Mining que consiste em decidir quais informações tem a maior probabilidade de ser do interesse do usuário. Tais sistemas são de grande importância nos dias de hoje e são usados por empresas como Netflix, Google e Amazon."
   ]
  },
  {
   "cell_type": "markdown",
   "metadata": {
    "deletable": true,
    "editable": true
   },
   "source": [
    "## Tipos de filtro\n",
    "- Content-based Filtering \n",
    "\n",
    "Esse filtro usa apenas as informações de similaridade entre os items. Usando filmes do Netflix como exemplo, ao assistir um filme, o sistema iria tentar recomendar um outro filme que tivesse caracteristicas parecidas, como gênero, atores, tema, ano de lançamento.\n",
    "\n",
    "Ex:\n",
    "> Se você assistiu e gostou de 'Star Wars Uma Nova Esperança', assista também 'Star Wars O Império Contra-Ataca'\n",
    "\n",
    "- Collaborative Filtering\n",
    "\n",
    "Já no filtro colaborativo, são usadas informações de outros usuários para recomendar um novo item. Como visto em e-commerces como Amazon, ao comprar um item, o sistema recomenda items que outros usuários que compraram o mesmo item também compraram.\n",
    "\n",
    "Ex:\n",
    ">Usuários que compraram um 'Fogão de Cozinha', também compraram 'Panelas' e 'Conjunto de pratos'"
   ]
  },
  {
   "cell_type": "markdown",
   "metadata": {
    "deletable": true,
    "editable": true
   },
   "source": [
    "## Formulação\n",
    "\n",
    "\n",
    "Usando a recomendação de filmes do Netflix como exemplo, podemos formular o problema e definir uma $n_f$ x $n_u$, sendo $n_u$ o número de usuários e $n_f$ o número de filmes.\n",
    "\n",
    "$$\n",
    "A_{fu}=\\left\\{\n",
    "\\begin{array}{c 2}\t\n",
    "     R_{uf}\\ \\text{ , nota que o usuário } u \\text{ deu ao filme } f \\\\\n",
    "      ?\\    \\text{ ,nota não existe para tupla } u, f\n",
    "\\end{array}\\right.\n",
    "$$\n"
   ]
  },
  {
   "cell_type": "markdown",
   "metadata": {
    "deletable": true,
    "editable": true
   },
   "source": [
    "Exemplo de matriz $A_{fu}$:\n",
    "![matriz](ex_matriz.png)"
   ]
  },
  {
   "cell_type": "markdown",
   "metadata": {
    "deletable": true,
    "editable": true
   },
   "source": [
    "## Referência\n",
    "\n",
    "- http://cs229.stanford.edu/proj2008/Wen-RecommendationSystemBasedOnCollaborativeFiltering.pdf\n",
    "- https://github.com/farzades/kNN_recommendations/\n",
    "- https://github.com/bv123/Knn-for-Movie-Recommendation/\n",
    "- https://pt.slideshare.net/seydahatipoglu111/collaborative-filtering-using-knn"
   ]
  },
  {
   "cell_type": "markdown",
   "metadata": {
    "deletable": true,
    "editable": true
   },
   "source": [
    "## Exemplo Content-based Filtering"
   ]
  },
  {
   "cell_type": "code",
   "execution_count": 1,
   "metadata": {
    "collapsed": false,
    "deletable": true,
    "editable": true
   },
   "outputs": [
    {
     "data": {
      "text/html": [
       "<div>\n",
       "<table border=\"1\" class=\"dataframe\">\n",
       "  <thead>\n",
       "    <tr style=\"text-align: right;\">\n",
       "      <th></th>\n",
       "      <th>user_id</th>\n",
       "      <th>movie_id</th>\n",
       "      <th>rating</th>\n",
       "    </tr>\n",
       "  </thead>\n",
       "  <tbody>\n",
       "    <tr>\n",
       "      <th>0</th>\n",
       "      <td>196</td>\n",
       "      <td>242</td>\n",
       "      <td>3</td>\n",
       "    </tr>\n",
       "    <tr>\n",
       "      <th>1</th>\n",
       "      <td>186</td>\n",
       "      <td>302</td>\n",
       "      <td>3</td>\n",
       "    </tr>\n",
       "    <tr>\n",
       "      <th>2</th>\n",
       "      <td>22</td>\n",
       "      <td>377</td>\n",
       "      <td>1</td>\n",
       "    </tr>\n",
       "    <tr>\n",
       "      <th>3</th>\n",
       "      <td>244</td>\n",
       "      <td>51</td>\n",
       "      <td>2</td>\n",
       "    </tr>\n",
       "    <tr>\n",
       "      <th>4</th>\n",
       "      <td>166</td>\n",
       "      <td>346</td>\n",
       "      <td>1</td>\n",
       "    </tr>\n",
       "  </tbody>\n",
       "</table>\n",
       "</div>"
      ],
      "text/plain": [
       "   user_id  movie_id  rating\n",
       "0      196       242       3\n",
       "1      186       302       3\n",
       "2       22       377       1\n",
       "3      244        51       2\n",
       "4      166       346       1"
      ]
     },
     "execution_count": 1,
     "metadata": {},
     "output_type": "execute_result"
    }
   ],
   "source": [
    "import pandas as pd\n",
    "\n",
    "r_cols = ['user_id', 'movie_id', 'rating']\n",
    "ratings = pd.read_csv('ml-100k/u.data', sep='\\t', names=r_cols, usecols=range(3))\n",
    "ratings.head()\n"
   ]
  },
  {
   "cell_type": "code",
   "execution_count": 2,
   "metadata": {
    "collapsed": false,
    "deletable": true,
    "editable": true
   },
   "outputs": [
    {
     "data": {
      "text/html": [
       "<div>\n",
       "<table border=\"1\" class=\"dataframe\">\n",
       "  <thead>\n",
       "    <tr style=\"text-align: right;\">\n",
       "      <th></th>\n",
       "      <th>id</th>\n",
       "      <th>name</th>\n",
       "      <th>date</th>\n",
       "      <th>-</th>\n",
       "      <th>link</th>\n",
       "      <th>unknown</th>\n",
       "      <th>Action</th>\n",
       "      <th>Adventure</th>\n",
       "      <th>Animation</th>\n",
       "      <th>Childrens</th>\n",
       "      <th>...</th>\n",
       "      <th>Fantasy</th>\n",
       "      <th>Film-Noir</th>\n",
       "      <th>Horror</th>\n",
       "      <th>Musical</th>\n",
       "      <th>Mystery</th>\n",
       "      <th>Romance</th>\n",
       "      <th>Sci-Fi</th>\n",
       "      <th>Thriller</th>\n",
       "      <th>War</th>\n",
       "      <th>Western</th>\n",
       "    </tr>\n",
       "  </thead>\n",
       "  <tbody>\n",
       "    <tr>\n",
       "      <th>0</th>\n",
       "      <td>1</td>\n",
       "      <td>Toy Story (1995)</td>\n",
       "      <td>01-Jan-1995</td>\n",
       "      <td>NaN</td>\n",
       "      <td>http://us.imdb.com/M/title-exact?Toy%20Story%2...</td>\n",
       "      <td>0</td>\n",
       "      <td>0</td>\n",
       "      <td>0</td>\n",
       "      <td>1</td>\n",
       "      <td>1</td>\n",
       "      <td>...</td>\n",
       "      <td>0</td>\n",
       "      <td>0</td>\n",
       "      <td>0</td>\n",
       "      <td>0</td>\n",
       "      <td>0</td>\n",
       "      <td>0</td>\n",
       "      <td>0</td>\n",
       "      <td>0</td>\n",
       "      <td>0</td>\n",
       "      <td>0</td>\n",
       "    </tr>\n",
       "    <tr>\n",
       "      <th>1</th>\n",
       "      <td>2</td>\n",
       "      <td>GoldenEye (1995)</td>\n",
       "      <td>01-Jan-1995</td>\n",
       "      <td>NaN</td>\n",
       "      <td>http://us.imdb.com/M/title-exact?GoldenEye%20(...</td>\n",
       "      <td>0</td>\n",
       "      <td>1</td>\n",
       "      <td>1</td>\n",
       "      <td>0</td>\n",
       "      <td>0</td>\n",
       "      <td>...</td>\n",
       "      <td>0</td>\n",
       "      <td>0</td>\n",
       "      <td>0</td>\n",
       "      <td>0</td>\n",
       "      <td>0</td>\n",
       "      <td>0</td>\n",
       "      <td>0</td>\n",
       "      <td>1</td>\n",
       "      <td>0</td>\n",
       "      <td>0</td>\n",
       "    </tr>\n",
       "    <tr>\n",
       "      <th>2</th>\n",
       "      <td>3</td>\n",
       "      <td>Four Rooms (1995)</td>\n",
       "      <td>01-Jan-1995</td>\n",
       "      <td>NaN</td>\n",
       "      <td>http://us.imdb.com/M/title-exact?Four%20Rooms%...</td>\n",
       "      <td>0</td>\n",
       "      <td>0</td>\n",
       "      <td>0</td>\n",
       "      <td>0</td>\n",
       "      <td>0</td>\n",
       "      <td>...</td>\n",
       "      <td>0</td>\n",
       "      <td>0</td>\n",
       "      <td>0</td>\n",
       "      <td>0</td>\n",
       "      <td>0</td>\n",
       "      <td>0</td>\n",
       "      <td>0</td>\n",
       "      <td>1</td>\n",
       "      <td>0</td>\n",
       "      <td>0</td>\n",
       "    </tr>\n",
       "    <tr>\n",
       "      <th>3</th>\n",
       "      <td>4</td>\n",
       "      <td>Get Shorty (1995)</td>\n",
       "      <td>01-Jan-1995</td>\n",
       "      <td>NaN</td>\n",
       "      <td>http://us.imdb.com/M/title-exact?Get%20Shorty%...</td>\n",
       "      <td>0</td>\n",
       "      <td>1</td>\n",
       "      <td>0</td>\n",
       "      <td>0</td>\n",
       "      <td>0</td>\n",
       "      <td>...</td>\n",
       "      <td>0</td>\n",
       "      <td>0</td>\n",
       "      <td>0</td>\n",
       "      <td>0</td>\n",
       "      <td>0</td>\n",
       "      <td>0</td>\n",
       "      <td>0</td>\n",
       "      <td>0</td>\n",
       "      <td>0</td>\n",
       "      <td>0</td>\n",
       "    </tr>\n",
       "    <tr>\n",
       "      <th>4</th>\n",
       "      <td>5</td>\n",
       "      <td>Copycat (1995)</td>\n",
       "      <td>01-Jan-1995</td>\n",
       "      <td>NaN</td>\n",
       "      <td>http://us.imdb.com/M/title-exact?Copycat%20(1995)</td>\n",
       "      <td>0</td>\n",
       "      <td>0</td>\n",
       "      <td>0</td>\n",
       "      <td>0</td>\n",
       "      <td>0</td>\n",
       "      <td>...</td>\n",
       "      <td>0</td>\n",
       "      <td>0</td>\n",
       "      <td>0</td>\n",
       "      <td>0</td>\n",
       "      <td>0</td>\n",
       "      <td>0</td>\n",
       "      <td>0</td>\n",
       "      <td>1</td>\n",
       "      <td>0</td>\n",
       "      <td>0</td>\n",
       "    </tr>\n",
       "  </tbody>\n",
       "</table>\n",
       "<p>5 rows × 24 columns</p>\n",
       "</div>"
      ],
      "text/plain": [
       "   id               name         date   -  \\\n",
       "0   1   Toy Story (1995)  01-Jan-1995 NaN   \n",
       "1   2   GoldenEye (1995)  01-Jan-1995 NaN   \n",
       "2   3  Four Rooms (1995)  01-Jan-1995 NaN   \n",
       "3   4  Get Shorty (1995)  01-Jan-1995 NaN   \n",
       "4   5     Copycat (1995)  01-Jan-1995 NaN   \n",
       "\n",
       "                                                link  unknown  Action  \\\n",
       "0  http://us.imdb.com/M/title-exact?Toy%20Story%2...        0       0   \n",
       "1  http://us.imdb.com/M/title-exact?GoldenEye%20(...        0       1   \n",
       "2  http://us.imdb.com/M/title-exact?Four%20Rooms%...        0       0   \n",
       "3  http://us.imdb.com/M/title-exact?Get%20Shorty%...        0       1   \n",
       "4  http://us.imdb.com/M/title-exact?Copycat%20(1995)        0       0   \n",
       "\n",
       "   Adventure  Animation  Childrens   ...     Fantasy  Film-Noir  Horror  \\\n",
       "0          0          1          1   ...           0          0       0   \n",
       "1          1          0          0   ...           0          0       0   \n",
       "2          0          0          0   ...           0          0       0   \n",
       "3          0          0          0   ...           0          0       0   \n",
       "4          0          0          0   ...           0          0       0   \n",
       "\n",
       "   Musical  Mystery  Romance  Sci-Fi  Thriller  War  Western  \n",
       "0        0        0        0       0         0    0        0  \n",
       "1        0        0        0       0         1    0        0  \n",
       "2        0        0        0       0         1    0        0  \n",
       "3        0        0        0       0         0    0        0  \n",
       "4        0        0        0       0         1    0        0  \n",
       "\n",
       "[5 rows x 24 columns]"
      ]
     },
     "execution_count": 2,
     "metadata": {},
     "output_type": "execute_result"
    }
   ],
   "source": [
    "r_cols = ['id', 'name', 'date', '-', 'link','unknown', 'Action', 'Adventure', 'Animation', 'Childrens', 'Comedy', 'Crime', 'Documentary', 'Drama', 'Fantasy', 'Film-Noir', 'Horror', 'Musical', 'Mystery', 'Romance', 'Sci-Fi', 'Thriller', 'War', 'Western']\n",
    "movies_info = pd.read_csv('ml-100k/u.item', sep='|', names=r_cols, usecols=range(24))\n",
    "movies_info.head()\n",
    "\n"
   ]
  },
  {
   "cell_type": "code",
   "execution_count": 3,
   "metadata": {
    "collapsed": false,
    "deletable": true,
    "editable": true
   },
   "outputs": [
    {
     "data": {
      "text/html": [
       "<div>\n",
       "<table border=\"1\" class=\"dataframe\">\n",
       "  <thead>\n",
       "    <tr>\n",
       "      <th></th>\n",
       "      <th colspan=\"2\" halign=\"left\">rating</th>\n",
       "    </tr>\n",
       "    <tr>\n",
       "      <th></th>\n",
       "      <th>size</th>\n",
       "      <th>mean</th>\n",
       "    </tr>\n",
       "    <tr>\n",
       "      <th>movie_id</th>\n",
       "      <th></th>\n",
       "      <th></th>\n",
       "    </tr>\n",
       "  </thead>\n",
       "  <tbody>\n",
       "    <tr>\n",
       "      <th>1</th>\n",
       "      <td>452</td>\n",
       "      <td>3.878319</td>\n",
       "    </tr>\n",
       "    <tr>\n",
       "      <th>2</th>\n",
       "      <td>131</td>\n",
       "      <td>3.206107</td>\n",
       "    </tr>\n",
       "    <tr>\n",
       "      <th>3</th>\n",
       "      <td>90</td>\n",
       "      <td>3.033333</td>\n",
       "    </tr>\n",
       "    <tr>\n",
       "      <th>4</th>\n",
       "      <td>209</td>\n",
       "      <td>3.550239</td>\n",
       "    </tr>\n",
       "    <tr>\n",
       "      <th>5</th>\n",
       "      <td>86</td>\n",
       "      <td>3.302326</td>\n",
       "    </tr>\n",
       "  </tbody>\n",
       "</table>\n",
       "</div>"
      ],
      "text/plain": [
       "         rating          \n",
       "           size      mean\n",
       "movie_id                 \n",
       "1           452  3.878319\n",
       "2           131  3.206107\n",
       "3            90  3.033333\n",
       "4           209  3.550239\n",
       "5            86  3.302326"
      ]
     },
     "execution_count": 3,
     "metadata": {},
     "output_type": "execute_result"
    }
   ],
   "source": [
    "import numpy as np\n",
    "\n",
    "movieProperties = ratings.groupby('movie_id').agg({'rating': [np.size, np.mean]})\n",
    "movieProperties.head()"
   ]
  },
  {
   "cell_type": "code",
   "execution_count": 4,
   "metadata": {
    "collapsed": false,
    "deletable": true,
    "editable": true
   },
   "outputs": [
    {
     "data": {
      "text/html": [
       "<div>\n",
       "<table border=\"1\" class=\"dataframe\">\n",
       "  <thead>\n",
       "    <tr style=\"text-align: right;\">\n",
       "      <th></th>\n",
       "      <th>size</th>\n",
       "    </tr>\n",
       "    <tr>\n",
       "      <th>movie_id</th>\n",
       "      <th></th>\n",
       "    </tr>\n",
       "  </thead>\n",
       "  <tbody>\n",
       "    <tr>\n",
       "      <th>1</th>\n",
       "      <td>0.774914</td>\n",
       "    </tr>\n",
       "    <tr>\n",
       "      <th>2</th>\n",
       "      <td>0.223368</td>\n",
       "    </tr>\n",
       "    <tr>\n",
       "      <th>3</th>\n",
       "      <td>0.152921</td>\n",
       "    </tr>\n",
       "    <tr>\n",
       "      <th>4</th>\n",
       "      <td>0.357388</td>\n",
       "    </tr>\n",
       "    <tr>\n",
       "      <th>5</th>\n",
       "      <td>0.146048</td>\n",
       "    </tr>\n",
       "  </tbody>\n",
       "</table>\n",
       "</div>"
      ],
      "text/plain": [
       "              size\n",
       "movie_id          \n",
       "1         0.774914\n",
       "2         0.223368\n",
       "3         0.152921\n",
       "4         0.357388\n",
       "5         0.146048"
      ]
     },
     "execution_count": 4,
     "metadata": {},
     "output_type": "execute_result"
    }
   ],
   "source": [
    "movieNumRatings = pd.DataFrame(movieProperties['rating']['size'])\n",
    "movieNormalizedNumRatings = movieNumRatings.apply(lambda x: (x - np.min(x)) / (np.max(x) - np.min(x)))\n",
    "movieNormalizedNumRatings.head()"
   ]
  },
  {
   "cell_type": "code",
   "execution_count": 5,
   "metadata": {
    "collapsed": false,
    "deletable": true,
    "editable": true
   },
   "outputs": [
    {
     "name": "stdout",
     "output_type": "stream",
     "text": [
      "('Toy Story (1995)', [0, 0, 0, 1, 1, 1, 0, 0, 0, 0, 0, 0, 0, 0, 0, 0, 0, 0, 0], 0.77491408934707906, 3.8783185840707963)\n"
     ]
    }
   ],
   "source": [
    "movieDict = {}\n",
    "name_to_id = {}\n",
    "with open('ml-100k/u.item') as f:\n",
    "    temp = ''\n",
    "    for line in f:\n",
    "        fields = line.rstrip('\\n').split('|')\n",
    "        movieID = int(fields[0])\n",
    "        name = fields[1]\n",
    "        genres = fields[5:25]\n",
    "        genres = map(int, genres)\n",
    "        name_to_id[name] = movieID\n",
    "        movieDict[movieID] = (name, genres, movieNormalizedNumRatings.loc[movieID].get('size'), movieProperties.loc[movieID].rating.get('mean'))\n",
    "\n",
    "print movieDict[1]"
   ]
  },
  {
   "cell_type": "code",
   "execution_count": 6,
   "metadata": {
    "collapsed": false,
    "deletable": true,
    "editable": true
   },
   "outputs": [],
   "source": [
    "def find_movie_contains(substring):\n",
    "    for m_id, m_info in movieDict.items():\n",
    "        if substring in m_info[0]:\n",
    "            print m_id, m_info[0]"
   ]
  },
  {
   "cell_type": "code",
   "execution_count": 7,
   "metadata": {
    "collapsed": false,
    "deletable": true,
    "editable": true
   },
   "outputs": [
    {
     "name": "stdout",
     "output_type": "stream",
     "text": [
      "50 Star Wars (1977)\n",
      "127 Godfather, The (1972)\n",
      "187 Godfather: Part II, The (1974)\n",
      "95 Aladdin (1992)\n",
      "422 Aladdin and the King of Thieves (1996)\n"
     ]
    }
   ],
   "source": [
    "find_movie_contains(\"Star Wars\")\n",
    "find_movie_contains(\"Godfather\")\n",
    "find_movie_contains(\"Aladdin\")"
   ]
  },
  {
   "cell_type": "code",
   "execution_count": 47,
   "metadata": {
    "collapsed": false,
    "deletable": true,
    "editable": true
   },
   "outputs": [
    {
     "name": "stdout",
     "output_type": "stream",
     "text": [
      "0.800687285223\n",
      "('GoldenEye (1995)', [0, 1, 1, 0, 0, 0, 0, 0, 0, 0, 0, 0, 0, 0, 0, 0, 1, 0, 0], 0.22336769759450173, 3.2061068702290076)\n",
      "('Get Shorty (1995)', [0, 1, 0, 0, 0, 1, 0, 0, 1, 0, 0, 0, 0, 0, 0, 0, 0, 0, 0], 0.35738831615120276, 3.5502392344497609)\n"
     ]
    }
   ],
   "source": [
    "from scipy import spatial\n",
    "\n",
    "def compute_distance(a, b):\n",
    "    genresA = a[1]\n",
    "    genresB = b[1]\n",
    "    genreDistance = spatial.distance.cosine(genresA, genresB)\n",
    "    popularityA = a[2]\n",
    "    popularityB = b[2]\n",
    "    popularityDistance = abs(popularityA - popularityB)\n",
    "    return genreDistance + popularityDistance\n",
    "    \n",
    "print compute_distance(movieDict[2], movieDict[4])\n",
    "print movieDict[2]\n",
    "print movieDict[4]\n"
   ]
  },
  {
   "cell_type": "code",
   "execution_count": 9,
   "metadata": {
    "collapsed": false,
    "deletable": true,
    "editable": true
   },
   "outputs": [],
   "source": [
    "import operator\n",
    "\n",
    "def getNeighbors(movieID, K):\n",
    "    distances = []\n",
    "    for movie in movieDict:\n",
    "        if (movie != movieID):\n",
    "            dist = compute_distance(movieDict[movieID], movieDict[movie])\n",
    "            distances.append((movie, dist))\n",
    "    distances.sort(key=operator.itemgetter(1))\n",
    "    neighbors = []\n",
    "    for x in range(K):\n",
    "        neighbors.append(distances[x][0])\n",
    "    return neighbors"
   ]
  },
  {
   "cell_type": "code",
   "execution_count": 10,
   "metadata": {
    "collapsed": true,
    "deletable": true,
    "editable": true
   },
   "outputs": [],
   "source": [
    "def show_k_neighbors(movie_id, K):\n",
    "    neighbors = getNeighbors(movie_id, K)\n",
    "    for neighbor in neighbors:\n",
    "        print \"- \", movieDict[neighbor][0], \"- id:\", neighbor"
   ]
  },
  {
   "cell_type": "code",
   "execution_count": 11,
   "metadata": {
    "collapsed": false,
    "deletable": true,
    "editable": true
   },
   "outputs": [
    {
     "name": "stdout",
     "output_type": "stream",
     "text": [
      "Recomendações para 'Star wars A New Hope':\n",
      "\n",
      "-  Return of the Jedi (1983) - id: 181\n",
      "-  Empire Strikes Back, The (1980) - id: 172\n",
      "-  Independence Day (ID4) (1996) - id: 121\n",
      "\n",
      "Recomendações para 'The Godfather':\n",
      "\n",
      "-  Pulp Fiction (1994) - id: 56\n",
      "-  Godfather: Part II, The (1974) - id: 187\n",
      "-  Titanic (1997) - id: 313\n",
      "\n",
      "Recomendações para 'Alladin':\n",
      "\n",
      "-  Lion King, The (1994) - id: 71\n",
      "-  Beauty and the Beast (1991) - id: 588\n",
      "-  Mary Poppins (1964) - id: 419\n"
     ]
    }
   ],
   "source": [
    "print \"Recomendações para 'Star wars A New Hope':\\n\"\n",
    "show_k_neighbors(50, 3)\n",
    "print\n",
    "print \"Recomendações para 'The Godfather':\\n\"\n",
    "show_k_neighbors(127, 3)\n",
    "print\n",
    "print \"Recomendações para 'Alladin':\\n\"\n",
    "show_k_neighbors(95, 3)"
   ]
  },
  {
   "cell_type": "markdown",
   "metadata": {
    "deletable": true,
    "editable": true
   },
   "source": [
    "## Exemplo Collaborative Filtering\n"
   ]
  },
  {
   "cell_type": "code",
   "execution_count": 12,
   "metadata": {
    "collapsed": false,
    "deletable": true,
    "editable": true
   },
   "outputs": [
    {
     "data": {
      "text/html": [
       "<div>\n",
       "<table border=\"1\" class=\"dataframe\">\n",
       "  <thead>\n",
       "    <tr style=\"text-align: right;\">\n",
       "      <th></th>\n",
       "      <th>user_id</th>\n",
       "      <th>movie_id</th>\n",
       "      <th>rating</th>\n",
       "    </tr>\n",
       "  </thead>\n",
       "  <tbody>\n",
       "    <tr>\n",
       "      <th>0</th>\n",
       "      <td>196</td>\n",
       "      <td>242</td>\n",
       "      <td>3</td>\n",
       "    </tr>\n",
       "    <tr>\n",
       "      <th>1</th>\n",
       "      <td>186</td>\n",
       "      <td>302</td>\n",
       "      <td>3</td>\n",
       "    </tr>\n",
       "    <tr>\n",
       "      <th>2</th>\n",
       "      <td>22</td>\n",
       "      <td>377</td>\n",
       "      <td>1</td>\n",
       "    </tr>\n",
       "    <tr>\n",
       "      <th>3</th>\n",
       "      <td>244</td>\n",
       "      <td>51</td>\n",
       "      <td>2</td>\n",
       "    </tr>\n",
       "    <tr>\n",
       "      <th>4</th>\n",
       "      <td>166</td>\n",
       "      <td>346</td>\n",
       "      <td>1</td>\n",
       "    </tr>\n",
       "  </tbody>\n",
       "</table>\n",
       "</div>"
      ],
      "text/plain": [
       "   user_id  movie_id  rating\n",
       "0      196       242       3\n",
       "1      186       302       3\n",
       "2       22       377       1\n",
       "3      244        51       2\n",
       "4      166       346       1"
      ]
     },
     "execution_count": 12,
     "metadata": {},
     "output_type": "execute_result"
    }
   ],
   "source": [
    "r_cols = ['user_id', 'movie_id', 'rating']\n",
    "ratings = pd.read_csv('ml-100k/u.data', sep='\\t', names=r_cols, usecols=range(3))\n",
    "ratings.head()"
   ]
  },
  {
   "cell_type": "code",
   "execution_count": 95,
   "metadata": {
    "collapsed": false,
    "deletable": true,
    "editable": true
   },
   "outputs": [
    {
     "name": "stdout",
     "output_type": "stream",
     "text": [
      "Numero de usuarios: 943\n",
      "Numero de filmes: 1682\n"
     ]
    }
   ],
   "source": [
    "import numpy as njp\n",
    "\n",
    "num_user = max(ratings.user_id)\n",
    "print \"Numero de usuarios:\", num_user\n",
    "\n",
    "num_movies = max(ratings.movie_id)\n",
    "print \"Numero de filmes:\", num_movies\n",
    "\n",
    "users = list(ratings.user_id.unique())\n",
    "movies = list(ratings.movie_id.unique())\n",
    "\n",
    "userId_to_idx = {}\n",
    "for i in range(num_user):\n",
    "    userId_to_idx[users[i]] = i\n",
    "    \n",
    "movieId_to_idx = {}\n",
    "for i in range(num_movies):\n",
    "    movieId_to_idx[movies[i]] = i\n",
    "\n",
    "similarity_matrix = np.zeros((num_user + 1, num_movies + 1), dtype=float)"
   ]
  },
  {
   "cell_type": "code",
   "execution_count": 96,
   "metadata": {
    "collapsed": false,
    "deletable": true,
    "editable": true
   },
   "outputs": [],
   "source": [
    "for i in range(len(ratings)):\n",
    "    userIndex = userId_to_idx[row[0]]\n",
    "    movieIndex = movieId_to_idx[row[1]]\n",
    "    row = ratings.iloc[i]\n",
    "    similarity_matrix[userIndex][movieIndex] = row[2]"
   ]
  },
  {
   "cell_type": "code",
   "execution_count": 97,
   "metadata": {
    "collapsed": false,
    "deletable": true,
    "editable": true
   },
   "outputs": [
    {
     "name": "stdout",
     "output_type": "stream",
     "text": [
      "[[ 3.  0.  0. ...,  0.  0.  0.]\n",
      " [ 0.  1.  0. ...,  0.  0.  0.]\n",
      " [ 0.  0.  2. ...,  0.  0.  0.]\n",
      " ..., \n",
      " [ 0.  5.  0. ...,  0.  0.  0.]\n",
      " [ 0.  0.  0. ...,  0.  0.  0.]\n",
      " [ 0.  0.  0. ...,  0.  0.  0.]]\n"
     ]
    }
   ],
   "source": [
    "print similarity_matrix"
   ]
  },
  {
   "cell_type": "code",
   "execution_count": 120,
   "metadata": {
    "collapsed": false
   },
   "outputs": [
    {
     "name": "stdout",
     "output_type": "stream",
     "text": [
      "[[  0.00000000e+00   6.80121643e-01   7.01828027e-01 ...,   7.44456038e-01\n",
      "    7.59371288e-01   7.64030279e-01]\n",
      " [ -2.22044605e-16   6.14302216e-01   6.76651627e-01 ...,   6.93096190e-01\n",
      "    6.95675697e-01   7.02848512e-01]\n",
      " [ -2.22044605e-16   5.13815760e-01   5.46671666e-01 ...,   5.85715224e-01\n",
      "    5.86540107e-01   5.92641382e-01]\n",
      " ..., \n",
      " [  0.00000000e+00   4.21793675e-01   4.33956743e-01 ...,   5.15826231e-01\n",
      "    5.18544446e-01   5.21404968e-01]\n",
      " [  1.11022302e-16   5.24611785e-01   5.97733212e-01 ...,   6.56201288e-01\n",
      "    6.60061127e-01   6.60847118e-01]\n",
      " [  1.00000000e+00   1.00000000e+00   1.00000000e+00 ...,   1.00000000e+00\n",
      "    1.00000000e+00   1.00000000e+00]]\n",
      "[[  0 582 570 ..., 540 369 114]\n",
      " [  1 318 530 ..., 543 395 782]\n",
      " [  2 639 151 ...,  54 819  26]\n",
      " ..., \n",
      " [941 806 916 ..., 526 170  66]\n",
      " [942 809 484 ..., 289 620 113]\n",
      " [628 627 632 ..., 623 625 636]]\n"
     ]
    }
   ],
   "source": [
    "from sklearn.neighbors import NearestNeighbors\n",
    "\n",
    "k = 10\n",
    "\n",
    "nbrs = NearestNeighbors(n_neighbors=k, algorithm='brute', metric='cosine', n_jobs=4)\n",
    "nbrs.fit(similarity_matrix)\n",
    "\n",
    "distancias, indices = nbrs.kneighbors(similarity_matrix)\n"
   ]
  },
  {
   "cell_type": "code",
   "execution_count": 163,
   "metadata": {
    "collapsed": false
   },
   "outputs": [],
   "source": [
    "def get_recommendation_for_user(user_id):\n",
    "    idx =  movieId_to_idx[user_id]\n",
    "    print \"\\nRecomendado para user_id\", user_id\n",
    "    print\n",
    "    for i in indices[user_id]:\n",
    "        print movieDict[i][0]\n",
    "    "
   ]
  },
  {
   "cell_type": "code",
   "execution_count": 167,
   "metadata": {
    "collapsed": false
   },
   "outputs": [],
   "source": [
    "def all_movies_user_watched(user_id):\n",
    "    print \"user_id\", user_id, \"assistiu:\\n\"\n",
    "    for i in ratings[ratings.user_id == user_id].movie_id:\n",
    "        print movieDict[i][0]\n"
   ]
  },
  {
   "cell_type": "code",
   "execution_count": 168,
   "metadata": {
    "collapsed": false
   },
   "outputs": [
    {
     "name": "stdout",
     "output_type": "stream",
     "text": [
      "user_id 1 assistiu:\n",
      "\n",
      "Three Colors: White (1994)\n",
      "Grand Day Out, A (1992)\n",
      "Desperado (1995)\n",
      "Glengarry Glen Ross (1992)\n",
      "Angels and Insects (1995)\n",
      "Groundhog Day (1993)\n",
      "Delicatessen (1991)\n",
      "Hunt for Red October, The (1990)\n",
      "Dirty Dancing (1987)\n",
      "Rock, The (1996)\n",
      "Ed Wood (1994)\n",
      "Star Trek: First Contact (1996)\n",
      "Pillow Book, The (1995)\n",
      "Horseman on the Roof, The (Hussard sur le toit, Le) (1995)\n",
      "Star Trek VI: The Undiscovered Country (1991)\n",
      "From Dusk Till Dawn (1996)\n",
      "So I Married an Axe Murderer (1993)\n",
      "Shawshank Redemption, The (1994)\n",
      "True Romance (1993)\n",
      "Star Trek: The Wrath of Khan (1982)\n",
      "Kull the Conqueror (1997)\n",
      "Independence Day (ID4) (1996)\n",
      "Wallace & Gromit: The Best of Aardman Animation (1996)\n",
      "Wizard of Oz, The (1939)\n",
      "Faster Pussycat! Kill! Kill! (1965)\n",
      "Citizen Kane (1941)\n",
      "Silence of the Lambs, The (1991)\n",
      "Blues Brothers, The (1980)\n",
      "Breaking the Waves (1996)\n",
      "Robert A. Heinlein's The Puppet Masters (1994)\n",
      "Crimson Tide (1995)\n",
      "Four Weddings and a Funeral (1994)\n",
      "Three Colors: Blue (1993)\n",
      "Good, The Bad and The Ugly, The (1966)\n",
      "Bad Boys (1995)\n",
      "Event Horizon (1997)\n",
      "Lawnmower Man, The (1992)\n",
      "Raiders of the Lost Ark (1981)\n",
      "Basic Instinct (1992)\n",
      "Jurassic Park (1993)\n",
      "Pulp Fiction (1994)\n",
      "Good Will Hunting (1997)\n",
      "Hot Shots! Part Deux (1993)\n",
      "Star Trek III: The Search for Spock (1984)\n",
      "Homeward Bound: The Incredible Journey (1993)\n",
      "101 Dalmatians (1996)\n",
      "Mars Attacks! (1996)\n",
      "Striptease (1996)\n",
      "Phenomenon (1996)\n",
      "Field of Dreams (1989)\n",
      "Shanghai Triad (Yao a yao yao dao waipo qiao) (1995)\n",
      "Theodore Rex (1995)\n",
      "I.Q. (1994)\n",
      "Akira (1988)\n",
      "Carlito's Way (1993)\n",
      "Mask, The (1994)\n",
      "Psycho (1960)\n",
      "Terminator 2: Judgment Day (1991)\n",
      "Room with a View, A (1986)\n",
      "Under Siege (1992)\n",
      "Contact (1997)\n",
      "Hudsucker Proxy, The (1994)\n",
      "Free Willy (1993)\n",
      "Unbearable Lightness of Being, The (1988)\n",
      "Sound of Music, The (1965)\n",
      "Willy Wonka and the Chocolate Factory (1971)\n",
      "Legends of the Fall (1994)\n",
      "Brazil (1985)\n",
      "Moll Flanders (1996)\n",
      "Cape Fear (1991)\n",
      "This Is Spinal Tap (1984)\n",
      "George of the Jungle (1997)\n",
      "Kids in the Hall: Brain Candy (1996)\n",
      "In the Company of Men (1997)\n",
      "Usual Suspects, The (1995)\n",
      "Postino, Il (1994)\n",
      "Dances with Wolves (1990)\n",
      "Dolores Claiborne (1994)\n",
      "Natural Born Killers (1994)\n",
      "Return of the Pink Panther, The (1974)\n",
      "Indiana Jones and the Last Crusade (1989)\n",
      "Army of Darkness (1993)\n",
      "Platoon (1986)\n",
      "Evil Dead II (1987)\n",
      "Swingers (1996)\n",
      "Alien (1979)\n",
      "Grosse Pointe Blank (1997)\n",
      "Young Frankenstein (1974)\n",
      "Supercop (1992)\n",
      "Kolya (1996)\n",
      "Ghost and the Darkness, The (1996)\n",
      "Flipper (1996)\n",
      "Right Stuff, The (1983)\n",
      "Mimic (1997)\n",
      "Nightmare on Elm Street, A (1984)\n",
      "Young Guns (1988)\n",
      "Citizen Ruth (1996)\n",
      "Lost World: Jurassic Park, The (1997)\n",
      "Shining, The (1980)\n",
      "Apocalypse Now (1979)\n",
      "Fifth Element, The (1997)\n",
      "Ref, The (1994)\n",
      "Nightmare Before Christmas, The (1993)\n",
      "Richard III (1995)\n",
      "Batman & Robin (1997)\n",
      "Bound (1996)\n",
      "Last of the Mohicans, The (1992)\n",
      "Kansas City (1996)\n",
      "My Best Friend's Wedding (1997)\n",
      "All Dogs Go to Heaven 2 (1996)\n",
      "Twister (1996)\n",
      "Outbreak (1995)\n",
      "unknown\n",
      "Rumble in the Bronx (1995)\n",
      "Remains of the Day, The (1993)\n",
      "Dead Poets Society (1989)\n",
      "Strange Days (1995)\n",
      "Abyss, The (1989)\n",
      "Star Trek IV: The Voyage Home (1986)\n",
      "Mad Love (1995)\n",
      "Taxi Driver (1976)\n",
      "Ridicule (1996)\n",
      "Maverick (1994)\n",
      "Ace Ventura: Pet Detective (1994)\n",
      "What's Eating Gilbert Grape (1993)\n",
      "Henry V (1989)\n",
      "Fargo (1996)\n",
      "Die Hard 2 (1990)\n",
      "Jungle2Jungle (1997)\n",
      "Monty Python's Life of Brian (1979)\n",
      "Pink Floyd - The Wall (1982)\n",
      "Top Gun (1986)\n",
      "Stargate (1994)\n",
      "Full Metal Jacket (1987)\n",
      "Aristocats, The (1970)\n",
      "Forrest Gump (1994)\n",
      "Cinema Paradiso (1988)\n",
      "Net, The (1995)\n",
      "Dead Man Walking (1995)\n",
      "Chasing Amy (1997)\n",
      "Braveheart (1995)\n",
      "Muppet Treasure Island (1996)\n",
      "Clockwork Orange, A (1971)\n",
      "Godfather: Part II, The (1974)\n",
      "2001: A Space Odyssey (1968)\n",
      "Crow, The (1994)\n",
      "Unhook the Stars (1996)\n",
      "Aliens (1986)\n",
      "Manon of the Spring (Manon des sources) (1986)\n",
      "D3: The Mighty Ducks (1996)\n",
      "Turbo: A Power Rangers Movie (1997)\n",
      "Blade Runner (1982)\n",
      "GoldenEye (1995)\n",
      "Belle de jour (1967)\n",
      "Santa Clause, The (1994)\n",
      "Austin Powers: International Man of Mystery (1997)\n",
      "Full Monty, The (1997)\n",
      "Crumb (1994)\n",
      "20,000 Leagues Under the Sea (1954)\n",
      "M*A*S*H (1970)\n",
      "To Wong Foo, Thanks for Everything! Julie Newmar (1995)\n",
      "Gattaca (1997)\n",
      "Gone with the Wind (1939)\n",
      "Sneakers (1992)\n",
      "Sting, The (1973)\n",
      "When the Cats Away (Chacun cherche son chat) (1996)\n",
      "Mirror Has Two Faces, The (1996)\n",
      "Welcome to the Dollhouse (1995)\n",
      "Babe (1995)\n",
      "Patton (1970)\n",
      "Jaws (1975)\n",
      "Sgt. Bilko (1996)\n",
      "Long Kiss Goodnight, The (1996)\n",
      "Snow White and the Seven Dwarfs (1937)\n",
      "Toy Story (1995)\n",
      "Graduate, The (1967)\n",
      "Princess Bride, The (1987)\n",
      "Brother Minister: The Assassination of Malcolm X (1994)\n",
      "Chasing Amy (1997)\n",
      "Doom Generation, The (1995)\n",
      "Die Hard (1988)\n",
      "Starship Troopers (1997)\n",
      "Maya Lin: A Strong Clear Vision (1994)\n",
      "Brothers McMullen, The (1995)\n",
      "Weekend at Bernie's (1989)\n",
      "Nadja (1994)\n",
      "Return of the Jedi (1983)\n",
      "Mr. Smith Goes to Washington (1939)\n",
      "Men in Black (1997)\n",
      "Jerry Maguire (1996)\n",
      "Breakfast at Tiffany's (1961)\n",
      "Mystery Science Theater 3000: The Movie (1996)\n",
      "GoodFellas (1990)\n",
      "Lion King, The (1994)\n",
      "Sling Blade (1996)\n",
      "Exotica (1994)\n",
      "Wrong Trousers, The (1993)\n",
      "Billy Madison (1995)\n",
      "On Golden Pond (1981)\n",
      "Operation Dumbo Drop (1995)\n",
      "While You Were Sleeping (1995)\n",
      "Firm, The (1993)\n",
      "Bridge on the River Kwai, The (1957)\n",
      "Priest (1994)\n",
      "Star Wars (1977)\n",
      "Raging Bull (1980)\n",
      "12 Angry Men (1957)\n",
      "Copycat (1995)\n",
      "Searching for Bobby Fischer (1993)\n",
      "Raising Arizona (1987)\n",
      "Reservoir Dogs (1992)\n",
      "Diabolique (1996)\n",
      "Private Benjamin (1980)\n",
      "Haunted World of Edward D. Wood Jr., The (1995)\n",
      "Seven (Se7en) (1995)\n",
      "Devil's Own, The (1997)\n",
      "Free Willy 2: The Adventure Home (1995)\n",
      "Big Night (1996)\n",
      "Godfather, The (1972)\n",
      "French Twist (Gazon maudit) (1995)\n",
      "Fugitive, The (1993)\n",
      "Air Bud (1997)\n",
      "Eat Drink Man Woman (1994)\n",
      "Hoop Dreams (1994)\n",
      "Birdcage, The (1996)\n",
      "Shall We Dance? (1996)\n",
      "Terminator, The (1984)\n",
      "Fish Called Wanda, A (1988)\n",
      "Heavy Metal (1981)\n",
      "Monty Python and the Holy Grail (1974)\n",
      "Frighteners, The (1996)\n",
      "Amadeus (1984)\n",
      "Get Shorty (1995)\n",
      "Steel (1997)\n",
      "Unforgiven (1992)\n",
      "Professional, The (1994)\n",
      "Clerks (1994)\n",
      "Love Bug, The (1969)\n",
      "Beavis and Butt-head Do America (1996)\n",
      "Twelve Monkeys (1995)\n",
      "Jude (1996)\n",
      "Disclosure (1994)\n",
      "Jean de Florette (1986)\n",
      "Cold Comfort Farm (1995)\n",
      "Nikita (La Femme Nikita) (1990)\n",
      "Lone Star (1996)\n",
      "Aladdin (1992)\n",
      "Bram Stoker's Dracula (1992)\n",
      "Quiz Show (1994)\n",
      "Bedknobs and Broomsticks (1971)\n",
      "When Harry Met Sally... (1989)\n",
      "Spitfire Grill, The (1996)\n",
      "Much Ado About Nothing (1993)\n",
      "Batman Returns (1992)\n",
      "Back to the Future (1985)\n",
      "Four Rooms (1995)\n",
      "Cyrano de Bergerac (1990)\n",
      "Smilla's Sense of Snow (1997)\n",
      "Antonia's Line (1995)\n",
      "Batman Forever (1995)\n",
      "White Balloon, The (1995)\n",
      "Three Colors: Red (1994)\n",
      "Mr. Holland's Opus (1995)\n",
      "Truth About Cats & Dogs, The (1996)\n",
      "Madness of King George, The (1994)\n",
      "Sleepless in Seattle (1993)\n",
      "Mighty Aphrodite (1995)\n",
      "Apollo 13 (1995)\n",
      "Empire Strikes Back, The (1980)\n",
      "Cable Guy, The (1996)\n",
      "Sleeper (1973)\n",
      "Home Alone (1990)\n"
     ]
    }
   ],
   "source": [
    "all_movies_user_watched(1)"
   ]
  },
  {
   "cell_type": "code",
   "execution_count": 166,
   "metadata": {
    "collapsed": false
   },
   "outputs": [
    {
     "name": "stdout",
     "output_type": "stream",
     "text": [
      "\n",
      "Recomendado para user_id 1\n",
      "\n",
      "Toy Story (1995)\n",
      "Schindler's List (1993)\n",
      "Man Who Would Be King, The (1975)\n",
      "Cold Comfort Farm (1995)\n",
      "Dangerous Minds (1995)\n",
      "Kansas City (1996)\n",
      "Titanic (1997)\n",
      "Mis�rables, Les (1995)\n",
      "Robin Hood: Men in Tights (1993)\n",
      "Little Odessa (1994)\n"
     ]
    }
   ],
   "source": [
    "get_recommendation_for_user(1)"
   ]
  },
  {
   "cell_type": "code",
   "execution_count": null,
   "metadata": {
    "collapsed": true
   },
   "outputs": [],
   "source": []
  }
 ],
 "metadata": {
  "kernelspec": {
   "display_name": "Python 2",
   "language": "python",
   "name": "python2"
  },
  "language_info": {
   "codemirror_mode": {
    "name": "ipython",
    "version": 2
   },
   "file_extension": ".py",
   "mimetype": "text/x-python",
   "name": "python",
   "nbconvert_exporter": "python",
   "pygments_lexer": "ipython2",
   "version": "2.7.12"
  }
 },
 "nbformat": 4,
 "nbformat_minor": 2
}
