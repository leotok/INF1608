{
 "cells": [
  {
   "cell_type": "code",
   "execution_count": 9,
   "metadata": {
    "collapsed": false
   },
   "outputs": [
    {
     "name": "stdout",
     "output_type": "stream",
     "text": [
      "[[ 0.70710678]\n",
      " [-0.70710678]]\n",
      "-3.0\n",
      "(array([-1., -3.]), matrix([[ 0.70710678, -0.70710678],\n",
      "        [ 0.70710678,  0.70710678]]))\n",
      "[[-0.5 -0.5]\n",
      " [-0.5 -0.5]]\n",
      "[[ 0.70710678]\n",
      " [ 0.70710678]]\n",
      "-1.0\n",
      "(array([ -1.38777878e-15,  -1.00000000e+00]), matrix([[ 0.70710678,  0.70710678],\n",
      "        [-0.70710678,  0.70710678]]))\n"
     ]
    }
   ],
   "source": [
    "import numpy as np\n",
    "\n",
    "def power_method(A, x0, MaxSteps):\n",
    "    x1 = x0\n",
    "    for i in range(MaxSteps):\n",
    "        x1 = A*x1\n",
    "        x1 = x1/np.linalg.norm(x1)\n",
    "        lambda1 = (np.transpose(A*x1)*x1)[0,0]\n",
    "    return x1,lambda1\n",
    "\n",
    "A  = np.matrix([[-2.0,1.0],[1.0,-2.0]])\n",
    "x0 = np.matrix([[1.0],[0.0]])\n",
    "\n",
    "v1,l1 = power_method(A,x0,100)\n",
    "print(v1)\n",
    "print(l1)\n",
    "\n",
    "print(np.linalg.eig(A))\n",
    "\n",
    "B = A - l1*v1*np.transpose(v1)\n",
    "print(B)\n",
    "v2,l2 = power_method(B,x0,100)\n",
    "print(v2)\n",
    "print(l2)\n",
    "\n",
    "print(np.linalg.eig(B))\n"
   ]
  },
  {
   "cell_type": "code",
   "execution_count": null,
   "metadata": {
    "collapsed": true
   },
   "outputs": [],
   "source": []
  },
  {
   "cell_type": "code",
   "execution_count": null,
   "metadata": {
    "collapsed": true
   },
   "outputs": [],
   "source": []
  }
 ],
 "metadata": {
  "kernelspec": {
   "display_name": "Python 2",
   "language": "python",
   "name": "python2"
  },
  "language_info": {
   "codemirror_mode": {
    "name": "ipython",
    "version": 2
   },
   "file_extension": ".py",
   "mimetype": "text/x-python",
   "name": "python",
   "nbconvert_exporter": "python",
   "pygments_lexer": "ipython2",
   "version": "2.7.12"
  }
 },
 "nbformat": 4,
 "nbformat_minor": 0
}
