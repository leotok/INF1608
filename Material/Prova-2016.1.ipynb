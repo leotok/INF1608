{
 "cells": [
  {
   "cell_type": "markdown",
   "metadata": {},
   "source": [
    "## INF1608 - Análise Numérica - 2016.1\n",
    "## Departamento de Informática - PUC-Rio \n",
    "## Prof. Hélio Lopes - lopes@inf.puc-rio.br\n",
    "## http://www.inf.puc-rio.br/~lopes\n",
    "\n",
    "## Nome: \n",
    "## Matrícula:\n",
    "\n",
    "\n",
    "\n",
    "## PROVA\n",
    "\n",
    "\n",
    "1) Modifique a implementação da decomposição LU sem pivoteamento de uma matriz A para tratar o caso específico de uma matriz tridiagonal (onde os elementos diferentes de zero estão na diagonal, diagonal superior e diagonal inferior).\n",
    "\n",
    "2) Modifique a implementação das funções LUforwardsub e LUbackwardsub considerando a decomposicao LU feita no item 1, ou seja considerando que a matriz A é tridiagonal.\n",
    "\n",
    "3) Teste o seu algoritmo respondendo a solução do sistema Ax=b, onde:\n",
    "\n",
    "A = np.matrix([[-2.0,1.0,0.0,0.0],[1.0,-2.0,1.0,0.0],[0.0,1.0,-2.0,1.0],[0.0,0.0,1.0,-2.0]])\n",
    "\n",
    "e\n",
    "\n",
    "b = np.array([1.0,0.0,0.0,1.0])\n",
    "\n",
    "4) Compare o número de operações de soma e multiplicações em ponto flutuante feitas para zerar a primeira coluna de uma matriz tridiagonal A de tamanho nxn (como feito no algoritmo do item 1) com o número de operações de soma e multiplicações em ponto flutuante feitas para zerar a primeira coluna da mesma matriz A usando o código original.\n"
   ]
  },
  {
   "cell_type": "code",
   "execution_count": 3,
   "metadata": {
    "collapsed": false
   },
   "outputs": [],
   "source": [
    "import numpy as np\n",
    "\n",
    "def LUdecomp(A):\n",
    "    LU=np.copy(A)\n",
    "    n =len(A)\n",
    "    for j in range(n-1):\n",
    "        for i in range(j+1,n):\n",
    "            LU[i][j] = LU[i][j]/LU[j][j]\n",
    "            for k in range(j+1,n):\n",
    "                LU[i][k] = LU[i][k] - LU[i][j]*LU[j][k]\n",
    "    return LU\n",
    "\n",
    "def LUforwardsub (L,b):\n",
    "    n = len(L)\n",
    "    y = np.zeros(n)\n",
    "    y[0] = b[0]\n",
    "    for i in range(1,n):\n",
    "        y[i] = b[i]\n",
    "        for j in range(i):\n",
    "            y[i] = y[i] - L[i][j]*y[j]\n",
    "    return y\n",
    "            \n",
    "def LUbackwardsub (U,y):\n",
    "    n = len(U)\n",
    "    x = np.zeros(n)\n",
    "    x[n-1] = y[n-1]/U[n-1,n-1]\n",
    "    for i in range(n-2,-1,-1):\n",
    "        x[i] = y[i]\n",
    "        for j in range(i+1,n):\n",
    "            x[i] = x[i] - U[i][j]*x[j]\n",
    "        x[i] /= U[i][i]\n",
    "    return x\n",
    "    \n",
    "def LUsolve(LU,b):\n",
    "    y = LUforwardsub(LU,b)\n",
    "    x = LUbackwardsub(LU,y)\n",
    "    return x\n"
   ]
  },
  {
   "cell_type": "markdown",
   "metadata": {},
   "source": [
    "5) Dada uma matriz real simétrica A, e utilizando a decomposição QR de A, implemente o algoritmo QR que obtem todos os autovalores de A simultaneamente pelo seguinte processo recusivo:\n",
    "\n",
    "Passo 1:  Decomponha A(0) = A em QR (A(0) = Q(0) R(0))\n",
    "\n",
    "Passo 2:  Faça A(1) = R(0) Q(0)\n",
    "\n",
    "Passo 3:  Decomponha A(1) = Q(1) R(1)\n",
    "\n",
    "Passo 4:  Faça A(2) = R(1) Q(1)\n",
    "\n",
    "...\n",
    "\n",
    "e assim sucessivamente.\n",
    "\n",
    "Utilize a norma de Frobenius da matriz (A(k) - A(k-1)) como critério de parada, considerando uma tolerância TOL.\n",
    "\n",
    "A norma de Frobenius de uma matriz B é a raiz quadrada da soma de todos os seus elementos elevados ao quadrado.\n",
    "\n",
    "Em numpy você pode utilizar o comando:\n",
    "\n",
    "Q, R = np.linalg.qr(A)\n",
    "\n",
    "para obter a decomposição QR de uma matriz A."
   ]
  },
  {
   "cell_type": "code",
   "execution_count": null,
   "metadata": {
    "collapsed": true
   },
   "outputs": [],
   "source": []
  }
 ],
 "metadata": {
  "kernelspec": {
   "display_name": "Python 2",
   "language": "python",
   "name": "python2"
  },
  "language_info": {
   "codemirror_mode": {
    "name": "ipython",
    "version": 2
   },
   "file_extension": ".py",
   "mimetype": "text/x-python",
   "name": "python",
   "nbconvert_exporter": "python",
   "pygments_lexer": "ipython2",
   "version": "2.7.11"
  }
 },
 "nbformat": 4,
 "nbformat_minor": 0
}
