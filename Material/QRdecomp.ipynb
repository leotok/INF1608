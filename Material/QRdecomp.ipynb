{
 "cells": [
  {
   "cell_type": "code",
   "execution_count": 2,
   "metadata": {
    "collapsed": false
   },
   "outputs": [
    {
     "name": "stdout",
     "output_type": "stream",
     "text": [
      "[[ 1. -1.  1.]\n",
      " [ 1.  0.  0.]\n",
      " [ 1.  1.  1.]]\n",
      "[[ 0.57735027 -0.70710678  0.40824829]\n",
      " [ 0.57735027  0.         -0.81649658]\n",
      " [ 0.57735027  0.70710678  0.40824829]]\n",
      "[[ 1.73205081  0.          1.15470054]\n",
      " [ 0.          1.41421356  0.        ]\n",
      " [ 0.          0.          0.81649658]]\n",
      "[[  1.00000000e+00  -1.00000000e+00   1.00000000e+00]\n",
      " [  1.00000000e+00   0.00000000e+00   3.63514589e-16]\n",
      " [  1.00000000e+00   1.00000000e+00   1.00000000e+00]]\n",
      "[ 2.  1.  2.]\n",
      "[ 1.  0.  1.]\n"
     ]
    }
   ],
   "source": [
    "import numpy as np\n",
    "\n",
    "\n",
    "def QRsolve(Q,R,b):\n",
    "    n = len(A)\n",
    "    x = np.zeros(n)\n",
    "    y = np.dot(np.transpose(Q),b)\n",
    "    x[n-1] = y[n-1]/R[n-1,n-1]\n",
    "    for i in range(n-2,-1,-1):\n",
    "        x[i] = y[i]\n",
    "        for j in range(i+1,n):\n",
    "            x[i] = x[i] - R[i,j]*x[j]\n",
    "        x[i] /= R[i,i]\n",
    "    return x\n",
    "\n",
    "def QRdecomp(A):\n",
    "    m = np.shape(A)[0]\n",
    "    n = np.shape(A)[1]\n",
    "    Q = np.zeros((m,n))\n",
    "    R = np.zeros((n,n))\n",
    "    u = np.zeros(m)\n",
    "    q = np.zeros(m)\n",
    "    for i in range(m):\n",
    "        u[i] = A[i,0]\n",
    "    v = np.copy(u)\n",
    "    v = v/np.linalg.norm(v)\n",
    "    for i in range(m):\n",
    "        Q[i,0] = v[i]\n",
    "    for j in range(1,n):\n",
    "        for i in range(m):\n",
    "            u[i] = A[i,j]\n",
    "        v = np.copy(u)\n",
    "        for k in range(j-1,-1,-1):\n",
    "            for i in range(m):\n",
    "                q[i] = Q[i,k]\n",
    "            v = v - np.dot(u,q) * q\n",
    "        v = v/np.linalg.norm(v)\n",
    "        for i in range(m):\n",
    "            Q[i,j] = v[i]\n",
    "    for i in range(n):\n",
    "        for j in range(n):\n",
    "            R[i,j] = 0.0\n",
    "            if (j >= i):\n",
    "                for k in range(m):\n",
    "                    R[i,j] = R[i,j] + A[k,j] * Q[k,i]\n",
    "    return Q,R\n",
    "\n",
    "A = np.matrix([[1.0,-1.0,1.0],[1.0,0.0,0.0],[1.0,1.0,1.0]])\n",
    "print(A)\n",
    "Q,R = QRdecomp(A)\n",
    "print(Q)\n",
    "print(R)\n",
    "print(np.dot(Q,R))\n",
    "\n",
    "b = np.array([2.0,1.0,2.0])\n",
    "print(b)\n",
    "x = QRsolve(Q,R,b)\n",
    "print(x)\n",
    "\n",
    "\n"
   ]
  }
 ],
 "metadata": {
  "kernelspec": {
   "display_name": "Python 2",
   "language": "python",
   "name": "python2"
  },
  "language_info": {
   "codemirror_mode": {
    "name": "ipython",
    "version": 2
   },
   "file_extension": ".py",
   "mimetype": "text/x-python",
   "name": "python",
   "nbconvert_exporter": "python",
   "pygments_lexer": "ipython2",
   "version": "2.7.12"
  }
 },
 "nbformat": 4,
 "nbformat_minor": 0
}
