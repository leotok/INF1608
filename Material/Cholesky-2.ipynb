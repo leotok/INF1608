{
 "cells": [
  {
   "cell_type": "code",
   "execution_count": 1,
   "metadata": {
    "collapsed": false
   },
   "outputs": [
    {
     "name": "stdout",
     "output_type": "stream",
     "text": [
      "[[ 1.          0.          0.          0.        ]\n",
      " [ 1.          1.73205081  0.          0.        ]\n",
      " [ 1.          1.73205081  2.23606798  0.        ]\n",
      " [ 1.          1.73205081  2.23606798  3.        ]]\n",
      "[[  1.   1.   1.   1.]\n",
      " [  1.   4.   4.   4.]\n",
      " [  1.   4.   9.   9.]\n",
      " [  1.   4.   9.  18.]]\n",
      "[[  1.   1.   1.   1.]\n",
      " [  1.   4.   4.   4.]\n",
      " [  1.   4.   9.   9.]\n",
      " [  1.   4.   9.  18.]]\n",
      "[  1.33333333e+00  -3.33333333e-01   4.44089210e-17   0.00000000e+00]\n",
      "[[  1.00000000e+00  -2.66453526e-16  -4.44089210e-17  -4.44089210e-17]]\n"
     ]
    }
   ],
   "source": [
    "import numpy as np\n",
    "import math\n",
    "\n",
    "def Choleskydecomp(A):\n",
    "    L = np.copy(A)\n",
    "    n = len(A)\n",
    "    L[0][0] = math.sqrt(L[0,0]) \n",
    "    for j in range(n):\n",
    "        L[j][j] = L[j][j]\n",
    "        for k in range(j):\n",
    "            L[j][j] -= (L[j][k])**2\n",
    "        L[j][j] = math.sqrt(L[j][j])\n",
    "        for i in range(j+1,n):\n",
    "            L[i][j] = L[i][j]\n",
    "            for k in range(j):\n",
    "                L[i][j] -= L[i][k]*L[j][k]\n",
    "            L[i][j] /= L[j][j]\n",
    "    for i in range(n-1):\n",
    "        for j in range(i+1,n):\n",
    "            L[i][j] = 0.0\n",
    "    return L\n",
    "\n",
    "def Lforwardsub (L,b):\n",
    "    n = len(L)\n",
    "    y = np.zeros(n)\n",
    "    y[0] = b[0]/L[0][0]\n",
    "    for i in range(1,n):\n",
    "        y[i] = b[i]\n",
    "        for j in range(i):\n",
    "            y[i] = y[i] - L[i][j]*y[j]\n",
    "        y[i] = y[i]/L[i][i]\n",
    "    return y\n",
    "            \n",
    "def LTbackwardsub (L,y):\n",
    "    n = len(L)\n",
    "    x = np.zeros(n)\n",
    "    x[n-1] = y[n-1]/L[n-1][n-1]\n",
    "    for i in range(n-2,-1,-1):\n",
    "        x[i] = y[i]\n",
    "        for j in range(i+1,n):\n",
    "            x[i] = x[i] - L[j][i]*x[j]\n",
    "        x[i] /= L[i][i]\n",
    "    return x\n",
    "    \n",
    "def LLTsolve(L,b):\n",
    "    y = Lforwardsub(L,b)\n",
    "    x = LTbackwardsub(L,y)\n",
    "    return x\n",
    "     \n",
    "\n",
    "A = np.matrix([[1.0,1.0,1.0,1.0],[1.0,4.0,4.0,4.0],[1.0,4.0,9.0,9.0],[1.0,4.0,9.0,18.0]])\n",
    "L = Choleskydecomp(A)\n",
    "print(L)\n",
    "print(L.dot(np.transpose(L)))\n",
    "print(A)\n",
    "b = np.array([1.0,0.0,0.0,0.0])\n",
    "x = LLTsolve(L,b)\n",
    "print(x)\n",
    "print(A.dot(x))\n"
   ]
  },
  {
   "cell_type": "code",
   "execution_count": null,
   "metadata": {
    "collapsed": true
   },
   "outputs": [],
   "source": []
  }
 ],
 "metadata": {
  "kernelspec": {
   "display_name": "Python 2",
   "language": "python",
   "name": "python2"
  },
  "language_info": {
   "codemirror_mode": {
    "name": "ipython",
    "version": 2
   },
   "file_extension": ".py",
   "mimetype": "text/x-python",
   "name": "python",
   "nbconvert_exporter": "python",
   "pygments_lexer": "ipython2",
   "version": "2.7.12"
  }
 },
 "nbformat": 4,
 "nbformat_minor": 0
}
