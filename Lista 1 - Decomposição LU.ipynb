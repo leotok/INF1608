{
 "cells": [
  {
   "cell_type": "markdown",
   "metadata": {},
   "source": [
    "# INF1608 - Análise Numérica\n",
    "\n",
    "#### Aluno: Leonardo Edelman Wajnsztok\n",
    "#### Matrícula: 1312737\n",
    "\n",
    "## Decomposição LU"
   ]
  },
  {
   "cell_type": "code",
   "execution_count": 409,
   "metadata": {
    "collapsed": true,
    "deletable": true,
    "editable": true
   },
   "outputs": [],
   "source": [
    "import numpy as np\n",
    "import matplotlib \n",
    "import matplotlib.pylab as plt\n",
    "\n",
    "%matplotlib inline"
   ]
  },
  {
   "cell_type": "code",
   "execution_count": 434,
   "metadata": {
    "collapsed": false,
    "deletable": true,
    "editable": true
   },
   "outputs": [],
   "source": [
    "def LU_decomposition(a):\n",
    "    n = len(a)\n",
    "    U = np.copy(a)\n",
    "    L = np.zeros((n,n))\n",
    "\n",
    "    for j in range(n):\n",
    "        L[j][j] = 1\n",
    "        for i in range(j + 1, n):\n",
    "            L[i][j] = U[i][j] / U[j][j]\n",
    "            U[i][j] = 0.0\n",
    "            for k in range(j + 1, n):\n",
    "                U[i][k] -= L[i][j] * U[j][k]\n",
    "    return L, U"
   ]
  },
  {
   "cell_type": "code",
   "execution_count": 435,
   "metadata": {
    "collapsed": false
   },
   "outputs": [],
   "source": [
    "def LU_forward_substitution(L, b):\n",
    "    n = len(L)\n",
    "    y = np.zeros((n,1))\n",
    "\n",
    "    for i in range(n):  \n",
    "        y[i][0] = b[i][0]\n",
    "        for j in range(i):\n",
    "            y[i][0] -= L[i][j] * y[j][0]\n",
    "    return y\n",
    "    "
   ]
  },
  {
   "cell_type": "code",
   "execution_count": 436,
   "metadata": {
    "collapsed": true
   },
   "outputs": [],
   "source": [
    "def LU_backward_substitution(U, y):\n",
    "    n = len(L)\n",
    "    x = np.zeros((n,1))\n",
    "    \n",
    "    x[n-1][0] = y[n-1][0] / U[n-1][n-1]\n",
    "    for i in range(n-2, -1, -1):  \n",
    "        x[i][0] = y[i][0]\n",
    "        for j in range(i+1, n):\n",
    "            x[i][0] -= U[i][j] * x[j][0]\n",
    "        x[i][0] /= U[i][i]\n",
    "    return x"
   ]
  },
  {
   "cell_type": "code",
   "execution_count": 437,
   "metadata": {
    "collapsed": true
   },
   "outputs": [],
   "source": [
    "def LU_solve(a, b):\n",
    "    L, U = LU_decomposition(a)\n",
    "    y = LU_forward_substitution(L, b)\n",
    "    x = LU_backward_substitution(U, y)\n",
    "    return L, U, x"
   ]
  },
  {
   "cell_type": "code",
   "execution_count": 440,
   "metadata": {
    "collapsed": false
   },
   "outputs": [
    {
     "name": "stdout",
     "output_type": "stream",
     "text": [
      "[[ True]\n",
      " [ True]\n",
      " [ True]\n",
      " [ True]]\n",
      "[[ True  True  True  True]\n",
      " [ True  True  True  True]\n",
      " [ True  True  True  True]\n",
      " [ True  True  True  True]]\n"
     ]
    }
   ],
   "source": [
    "a = np.array([[1.0, -1., 1.0, -1.],\n",
    "             [ 1.0, 0.0, 0.0, 0.0],\n",
    "             [ 1.0, 1.0, 1.0, 1.0],\n",
    "             [ 1.0, 2.0, 4.0, 8.0]])\n",
    "\n",
    "b = np.array([[-1.],\n",
    "              [0.0],\n",
    "              [0.0],\n",
    "              [6.0]])\n",
    "\n",
    "L, U, x = LU_solve(a, b)\n",
    "\n",
    "print np.dot(a, x) == b\n",
    "print np.dot(L, U) == a\n",
    "\n"
   ]
  },
  {
   "cell_type": "code",
   "execution_count": null,
   "metadata": {
    "collapsed": false
   },
   "outputs": [],
   "source": []
  },
  {
   "cell_type": "code",
   "execution_count": null,
   "metadata": {
    "collapsed": true
   },
   "outputs": [],
   "source": []
  },
  {
   "cell_type": "code",
   "execution_count": null,
   "metadata": {
    "collapsed": true
   },
   "outputs": [],
   "source": []
  },
  {
   "cell_type": "code",
   "execution_count": null,
   "metadata": {
    "collapsed": true
   },
   "outputs": [],
   "source": []
  },
  {
   "cell_type": "code",
   "execution_count": null,
   "metadata": {
    "collapsed": true
   },
   "outputs": [],
   "source": []
  },
  {
   "cell_type": "code",
   "execution_count": null,
   "metadata": {
    "collapsed": true
   },
   "outputs": [],
   "source": []
  }
 ],
 "metadata": {
  "kernelspec": {
   "display_name": "Python 2",
   "language": "python",
   "name": "python2"
  },
  "language_info": {
   "codemirror_mode": {
    "name": "ipython",
    "version": 2
   },
   "file_extension": ".py",
   "mimetype": "text/x-python",
   "name": "python",
   "nbconvert_exporter": "python",
   "pygments_lexer": "ipython2",
   "version": "2.7.12"
  }
 },
 "nbformat": 4,
 "nbformat_minor": 2
}
