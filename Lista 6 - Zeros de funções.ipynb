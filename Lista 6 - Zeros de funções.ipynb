{
 "cells": [
  {
   "cell_type": "markdown",
   "metadata": {
    "deletable": true,
    "editable": true
   },
   "source": [
    "## Leonardo E. Wajnsztok\n",
    "## Matrícula 1312737"
   ]
  },
  {
   "cell_type": "markdown",
   "metadata": {
    "deletable": true,
    "editable": true
   },
   "source": [
    "### Zeros de funções\n",
    "\n",
    "#### Implementar e testar os seguintes métodos para zero de funções:\n",
    "\n",
    "1) Regular falsi para determinar zero de uma função real f:R->R\n",
    "\n",
    "2) Métode de Broyden I e II para determinar zero de uma função multivariada F:Rˆn->Rˆn.\n",
    "\n",
    "3) Implementar uma função que desenhe as curvas de nível zero de f:R^2->R e g:R^2->R.\n",
    "\n",
    "4) Considere f(x,y)= x^2 + y^2 - 1.0 e g(x,y) = x*y - 1.0. Teste a implementação do item 3 e descubra usando os métodos implementados no item 2 as raízes do sistema:\n",
    "\n",
    "f(x,y) = 0\n",
    "\n",
    "g(x,y)= 0 "
   ]
  },
  {
   "cell_type": "code",
   "execution_count": 9,
   "metadata": {
    "collapsed": true
   },
   "outputs": [],
   "source": [
    "import numpy as np\n",
    "import math\n",
    "from scipy import dot\n",
    "from scipy.linalg import inv\n",
    "from __future__ import division\n",
    "\n",
    "import matplotlib.pyplot as plt\n",
    "%matplotlib inline"
   ]
  },
  {
   "cell_type": "code",
   "execution_count": 10,
   "metadata": {
    "collapsed": false
   },
   "outputs": [
    {
     "name": "stdout",
     "output_type": "stream",
     "text": [
      "1.0 52\n"
     ]
    }
   ],
   "source": [
    "\n",
    "def regular_falsi(f,a,b,N):\n",
    "    i = 0\n",
    "    while(i < N):\n",
    "        c = (b*f(a) - a*f(b))/(f(a) - f(b))\n",
    "        if f(c) == 0:\n",
    "            return c, i\n",
    "        if f(a)*f(c) < 0:\n",
    "            b = c\n",
    "        else:\n",
    "            a = c\n",
    "        i += 1\n",
    "    return c, i\n",
    "\n",
    "def f(x):\n",
    "    return x**2-x\n",
    "\n",
    "result, steps = regular_falsi(f,0.5,2.0,100)\n",
    "print(result, steps)"
   ]
  },
  {
   "cell_type": "code",
   "execution_count": 11,
   "metadata": {
    "collapsed": true
   },
   "outputs": [],
   "source": [
    "def update(C, F, x, B, f_at_x):\n",
    "    \"\"\"\n",
    "    The updating logic behind Broyden's method.\n",
    "    \"\"\"\n",
    "    # f_at_x = F(x)\n",
    "    p = - dot(C, f_at_x)\n",
    "    x = x + p\n",
    "    new_f_at_x = F(x)\n",
    "    y = new_f_at_x - f_at_x\n",
    "    C_dot_y = dot(C, y)\n",
    "    p_dot_C = dot(p.T, C)\n",
    "    C = C + dot((p - C_dot_y), p_dot_C) / (dot(p.T, C_dot_y))\n",
    "    f_at_x = new_f_at_x\n",
    "    B = inv(C)\n",
    "    return (C, F, x, B, f_at_x)\n",
    "\n",
    "\n",
    "def broyden_gen(F, x, B, C, f_at_x, n=5):\n",
    "    \"\"\"\n",
    "    Generator implementing Broyden's update.\n",
    "    \"\"\"\n",
    "    for i in range(n):\n",
    "        C, F, x, B, f_at_x = update(C, F, x, B, f_at_x)\n",
    "        yield (x, B, f_at_x, C)"
   ]
  },
  {
   "cell_type": "code",
   "execution_count": 12,
   "metadata": {
    "collapsed": true
   },
   "outputs": [],
   "source": [
    "\n",
    "def f(x,y):\n",
    "    return x*2 + y*2 - 1\n",
    "\n",
    "def g(x,y):\n",
    "    return x*y - 1\n",
    "\n",
    "def reta(t,px,py,qx,qy):\n",
    "    return px+t*(qx-px), py+t*(qy-py)\n",
    "\n",
    "def bissecao(f,c,px,py,qx,qy,N):\n",
    "    a = 0.0\n",
    "    b = 1.0\n",
    "    ax,ay = reta(a,px,py,qx,qy)\n",
    "    bx,by = reta(b,px,py,qx,qy)\n",
    "    m = (a+b)/2.0\n",
    "    mx,my = reta(m,px,py,qx,qy)\n",
    "    fa = f(ax,ay)-c\n",
    "    fb = f(bx,by)-c\n",
    "    fm = f(mx,my)-c\n",
    "    for i in range(N):\n",
    "        if (fa*fm < 0.0):\n",
    "            b  = m\n",
    "            fb = fm\n",
    "        elif (fb*fm < 0.0):\n",
    "            a  = m\n",
    "            fa = fm\n",
    "        else:\n",
    "            break\n",
    "        m  = (a+b)/2.0\n",
    "        mx,my = reta(m,px,py,qx,qy)\n",
    "        fm = f(mx,my)-c\n",
    "    return mx,my\n",
    "    \n",
    "\n",
    "\n",
    "def triangleintersect(f,c,ax,ay,bx,by,cx,cy,N):\n",
    "    fa = f(ax,ay)-c\n",
    "    fb = f(bx,by)-c\n",
    "    fc = f(cx,cy)-c\n",
    "    p  = []\n",
    "    if (fa*fb <= 0.0):\n",
    "        p.append(bissecao(f,c,ax,ay,bx,by,N))\n",
    "    if (fb*fc <= 0.0):\n",
    "        p.append(bissecao(f,c,bx,by,cx,cy,N))\n",
    "    if (fc*fa <= 0.0):\n",
    "        p.append(bissecao(f,c,cx,cy,ax,ay,N))\n",
    "    return p\n",
    "\n",
    "\n",
    "def levelcurves(f,g,cmin,cmax,xmin,xmax,ymin,ymax,lc,m,n,NB):\n",
    "    deltax = (xmax - xmin)/(m-1)\n",
    "    deltay = (ymax - ymin)/(n-1)\n",
    "    deltac = (cmax - cmin)/(lc-1)\n",
    "    for k in range(lc):\n",
    "        l = []\n",
    "        l2 = []\n",
    "        c = cmin + k*deltac\n",
    "        for i in range(n):\n",
    "            x0 = xmin + i*deltax\n",
    "            x1 = x0 + deltax\n",
    "            for j in range(m): \n",
    "                y0 = ymin + j*deltay\n",
    "                y1 = y0 + deltay\n",
    "                aresta = triangleintersect(f,c,x0,y0,x1,y0,x1,y1,NB)\n",
    "                aresta2 = triangleintersect(g,c,x0,y0,x1,y0,x1,y1,NB)\n",
    "                if (aresta != []):\n",
    "                    l.append(aresta)\n",
    "                if (aresta2 != []):\n",
    "                    l2.append(aresta2)\n",
    "                aresta = triangleintersect(f,c,x0,y0,x1,y1,x0,y1,NB)\n",
    "                aresta2 = triangleintersect(g,c,x0,y0,x1,y1,x0,y1,NB)\n",
    "                if (aresta != []):\n",
    "                    l.append(aresta)\n",
    "                if (aresta2 != []):\n",
    "                    l2.append(aresta2)\n",
    "        for i in range(len(l)):\n",
    "            px = []\n",
    "            py = [] \n",
    "            for j in range(len(l[i])):\n",
    "                px.append(l[i][j][0])\n",
    "                py.append(l[i][j][1])\n",
    "            plt.plot(px,py,color='blue')\n",
    "        for i in range(len(l2)):\n",
    "            px = []\n",
    "            py = [] \n",
    "            for j in range(len(l2[i])):\n",
    "                px.append(l2[i][j][0])\n",
    "                py.append(l2[i][j][1])\n",
    "            plt.plot(px,py,color='red')\n",
    "    plt.xlim(xmin,xmax)\n",
    "    plt.ylim(ymin,ymax)\n",
    "    plt.show()"
   ]
  },
  {
   "cell_type": "code",
   "execution_count": null,
   "metadata": {
    "collapsed": true,
    "deletable": true,
    "editable": true
   },
   "outputs": [],
   "source": []
  },
  {
   "cell_type": "code",
   "execution_count": null,
   "metadata": {
    "collapsed": false,
    "deletable": true,
    "editable": true
   },
   "outputs": [],
   "source": [
    "\n"
   ]
  },
  {
   "cell_type": "code",
   "execution_count": null,
   "metadata": {
    "collapsed": false,
    "deletable": true,
    "editable": true
   },
   "outputs": [],
   "source": []
  }
 ],
 "metadata": {
  "kernelspec": {
   "display_name": "Python 2",
   "language": "python",
   "name": "python2"
  },
  "language_info": {
   "codemirror_mode": {
    "name": "ipython",
    "version": 2
   },
   "file_extension": ".py",
   "mimetype": "text/x-python",
   "name": "python",
   "nbconvert_exporter": "python",
   "pygments_lexer": "ipython2",
   "version": "2.7.12"
  }
 },
 "nbformat": 4,
 "nbformat_minor": 0
}
