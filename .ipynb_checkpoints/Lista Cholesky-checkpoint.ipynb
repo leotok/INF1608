{
 "cells": [
  {
   "cell_type": "markdown",
   "metadata": {},
   "source": [
    "## INF1608 - Análise Numérica - 2017.1\n",
    "## Departamento de Informática - PUC-Rio \n",
    "## Prof. Hélio Lopes - lopes@inf.puc-rio.br\n",
    "## http://www.inf.puc-rio.br/~lopes\n",
    "\n",
    "\n",
    "\n",
    "## Lista 1\n",
    "\n",
    "1) Faça a implementação da decomposição Cholesky, cuja entrada é uma matriz simétrica A definida positiva de tamanho nxn.\n",
    "\n",
    "2) Faça a implementação das funções CLforwardsub e da CLbackwardsub, cuja entrada é a matriz L da decomposição Cholesky de uma matriz A de tamanho nxn.\n",
    "\n",
    "3) Implemente a função CLsolve que resolve o sistema Ax=b, tendo em mão a deomposição A=LLt.\n",
    "\n",
    "4) Teste muito bem todos esses algoritmos!"
   ]
  },
  {
   "cell_type": "code",
   "execution_count": null,
   "metadata": {
    "collapsed": true
   },
   "outputs": [],
   "source": []
  }
 ],
 "metadata": {
  "kernelspec": {
   "display_name": "Python 2",
   "language": "python",
   "name": "python2"
  },
  "language_info": {
   "codemirror_mode": {
    "name": "ipython",
    "version": 2
   },
   "file_extension": ".py",
   "mimetype": "text/x-python",
   "name": "python",
   "nbconvert_exporter": "python",
   "pygments_lexer": "ipython2",
   "version": "2.7.12"
  }
 },
 "nbformat": 4,
 "nbformat_minor": 0
}
