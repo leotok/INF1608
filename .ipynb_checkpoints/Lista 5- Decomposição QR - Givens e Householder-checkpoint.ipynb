{
 "cells": [
  {
   "cell_type": "markdown",
   "metadata": {
    "deletable": true,
    "editable": true
   },
   "source": [
    "## INF1608 - Análise Numérica - 2017.1\n",
    "## Departamento de Informática - PUC-Rio \n",
    "## Prof. Hélio Lopes - lopes@inf.puc-rio.br\n",
    "## http://www.inf.puc-rio.br/~lopes\n",
    "## Aluno: Leonardo E. Wajnsztok\n",
    "## Matrícula: 1312737\n",
    "\n",
    "## Lista 5\n",
    "\n",
    "1) Implemente o método de Reflexão de Householder para a obtenção da decomposição QR de uma matriz quadrada nxn.\n",
    "       \n",
    "2) Implemente o método de Rotação de Givens para a obtenção da decomposição QR de uma matriz quadrada nxn.\n",
    "     \n",
    "3) Teste muito bem todos esses algoritmos!"
   ]
  },
  {
   "cell_type": "code",
   "execution_count": 165,
   "metadata": {
    "collapsed": false,
    "deletable": true,
    "editable": true
   },
   "outputs": [],
   "source": [
    "import numpy as np\n",
    "import math"
   ]
  },
  {
   "cell_type": "code",
   "execution_count": 166,
   "metadata": {
    "collapsed": true,
    "deletable": true,
    "editable": true
   },
   "outputs": [],
   "source": [
    "# 1) Implemente o método de Reflexão de Householder para a obtenção da decomposição QR de uma matriz quadrada nxn.\n",
    "# referência: https://www.quantstart.com/articles/QR-Decomposition-with-Python-and-NumPy\n",
    "\n",
    "def Q_i(Q_min, i, j, k):\n",
    "    \"\"\"Construct the Q_t matrix by left-top padding the matrix Q                                                      \n",
    "    with elements from the identity matrix.\"\"\"\n",
    "    if i < k or j < k:\n",
    "        return float(i == j)\n",
    "    else:\n",
    "        return Q_min[i-k][j-k]\n",
    "\n",
    "def householder_qr(A):\n",
    "    m, n = A.shape\n",
    "    Q = np.zeros_like(A)\n",
    "    R = A.copy()\n",
    "    \n",
    "    for k in range(n-1):\n",
    "    \n",
    "        I = np.identity(m)\n",
    "        x = np.array([row[k] for row in R[k:]])\n",
    "        e = np.array([row[k] for row in I[k:]])\n",
    "        alpha = -np.sign(x[0]) * np.linalg.norm(x)\n",
    "\n",
    "        u = map(lambda p,q: p + alpha * q, x, e)\n",
    "        norm_u = np.linalg.norm(u)\n",
    "        v = map(lambda p: p/norm_u, u)\n",
    "\n",
    "        Q_min = np.array([ [float(i==j) - 2.0 * v[i] * v[j] for i in xrange(n-k)] for j in xrange(n-k) ])\n",
    "\n",
    "        Q_t = np.array([[ Q_i(Q_min,i,j,k) for i in xrange(n)] for j in xrange(n)])\n",
    "\n",
    "        if k == 0:\n",
    "            Q = Q_t\n",
    "            R = Q_t.dot(A)\n",
    "        else:\n",
    "            Q = Q_t.dot(Q)\n",
    "            R = Q_t.dot(R)\n",
    "\n",
    "    # Since Q is defined as the product of transposes of Q_t,\n",
    "    # we need to take the transpose upon returning it\n",
    "    return np.transpose(Q), R"
   ]
  },
  {
   "cell_type": "code",
   "execution_count": 167,
   "metadata": {
    "collapsed": true,
    "deletable": true,
    "editable": true
   },
   "outputs": [],
   "source": [
    "# 2) Implemente o método de Rotação de Givens para a obtenção da decomposição QR de uma matriz quadrada nxn.\n",
    "# https://github.com/felipeamp/BasicLinearAlgebra/blob/master/main.py\n",
    "\n",
    "def qr_givens(A):\n",
    "    def get_rotation_matrix(a, b):\n",
    "        norm = math.sqrt(a**2 + b**2)\n",
    "        assert norm != 0\n",
    "        c = a / norm\n",
    "        s = -b / norm\n",
    "        return np.array([[c, -s], [s, c]], dtype=float)\n",
    "\n",
    "    def join_bigger_rotation(total_size, rot, i, j):\n",
    "        ret = np.identity(total_size, dtype=float)\n",
    "        ret[i, i] = rot[0, 0]\n",
    "        ret[j, j] = rot[1, 1]\n",
    "        ret[i, j] = rot[0, 1]\n",
    "        ret[j, i] = rot[1, 0]\n",
    "        return ret\n",
    "\n",
    "    R = np.copy(A)\n",
    "    assert A.shape[0] == A.shape[1]\n",
    "    n = A.shape[0]\n",
    "    Q = np.identity(n, dtype=float)\n",
    "    for column_index in range(n):\n",
    "        for row_index in range(column_index + 1, n):\n",
    "            if R[row_index, column_index] == 0.0:\n",
    "                continue\n",
    "            a = R[column_index, column_index]\n",
    "            b = R[row_index, column_index]\n",
    "            curr_q_smaller = get_rotation_matrix(a, b)\n",
    "            curr_q = join_bigger_rotation(n, curr_q_smaller, column_index, row_index)\n",
    "            Q = np.dot(curr_q, Q)\n",
    "            R = np.dot(curr_q, R)\n",
    "    Q = Q.T\n",
    "    return Q, R"
   ]
  },
  {
   "cell_type": "code",
   "execution_count": 168,
   "metadata": {
    "collapsed": false,
    "deletable": true,
    "editable": true
   },
   "outputs": [
    {
     "name": "stdout",
     "output_type": "stream",
     "text": [
      "A:\n",
      "[[ 4.  2.  2.]\n",
      " [ 2.  4.  2.]\n",
      " [ 2.  2.  4.]]\n",
      "Q:\n",
      "[[ 0.81649658  0.49236596  0.30151134]\n",
      " [ 0.40824829 -0.86164044  0.30151134]\n",
      " [ 0.40824829 -0.12309149 -0.90453403]]\n",
      "R:\n",
      "[[  4.89897949e+00   4.08248290e+00   4.08248290e+00]\n",
      " [ -1.87457109e-15  -2.70801280e+00  -1.23091491e+00]\n",
      " [ -1.14793566e-15  -4.44089210e-16  -2.41209076e+00]]\n",
      "QxR:\n",
      "[[ 4.  2.  2.]\n",
      " [ 2.  4.  2.]\n",
      " [ 2.  2.  4.]]\n"
     ]
    }
   ],
   "source": [
    "A = np.array([[4.0, 2.0, 2.0],\n",
    "               [2.0, 4.0, 2.0],\n",
    "               [2.0, 2.0, 4.0]])\n",
    "print \"A:\"\n",
    "print A\n",
    "\n",
    "Q, R = householder_qr(A)\n",
    "\n",
    "print \"Q:\"\n",
    "print Q\n",
    "print \"R:\"\n",
    "print R\n",
    "print \"QxR:\"\n",
    "print Q.dot(R)"
   ]
  },
  {
   "cell_type": "code",
   "execution_count": 169,
   "metadata": {
    "collapsed": false,
    "deletable": true,
    "editable": true
   },
   "outputs": [
    {
     "name": "stdout",
     "output_type": "stream",
     "text": [
      "A:\n",
      "[[ 4.  2.  2.]\n",
      " [ 2.  4.  2.]\n",
      " [ 2.  2.  4.]]\n",
      "Q:\n",
      "[[ 0.81649658 -0.49236596 -0.30151134]\n",
      " [ 0.40824829  0.86164044 -0.30151134]\n",
      " [ 0.40824829  0.12309149  0.90453403]]\n",
      "R:\n",
      "[[ 4.89897949  4.0824829   4.0824829 ]\n",
      " [ 0.          2.7080128   1.23091491]\n",
      " [ 0.          0.          2.41209076]]\n",
      "QxR:\n",
      "[[ 4.  2.  2.]\n",
      " [ 2.  4.  2.]\n",
      " [ 2.  2.  4.]]\n"
     ]
    }
   ],
   "source": [
    "A = np.array([[4.0, 2.0, 2.0],\n",
    "               [2.0, 4.0, 2.0],\n",
    "               [2.0, 2.0, 4.0]])\n",
    "print \"A:\"\n",
    "print A\n",
    "\n",
    "Q, R = qr_givens(A)\n",
    "\n",
    "print \"Q:\"\n",
    "print Q\n",
    "print \"R:\"\n",
    "print R\n",
    "print \"QxR:\"\n",
    "print Q.dot(R)"
   ]
  },
  {
   "cell_type": "code",
   "execution_count": null,
   "metadata": {
    "collapsed": true,
    "deletable": true,
    "editable": true
   },
   "outputs": [],
   "source": []
  }
 ],
 "metadata": {
  "kernelspec": {
   "display_name": "Python 2",
   "language": "python",
   "name": "python2"
  },
  "language_info": {
   "codemirror_mode": {
    "name": "ipython",
    "version": 2
   },
   "file_extension": ".py",
   "mimetype": "text/x-python",
   "name": "python",
   "nbconvert_exporter": "python",
   "pygments_lexer": "ipython2",
   "version": "2.7.12"
  }
 },
 "nbformat": 4,
 "nbformat_minor": 0
}
