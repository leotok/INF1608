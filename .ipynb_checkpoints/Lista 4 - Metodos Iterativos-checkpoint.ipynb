{
 "cells": [
  {
   "cell_type": "markdown",
   "metadata": {
    "deletable": true,
    "editable": true
   },
   "source": [
    "## INF1608 - Análise Numérica - 2017.1\n",
    "## Departamento de Informática - PUC-Rio \n",
    "## Prof. Hélio Lopes - lopes@inf.puc-rio.br\n",
    "## http://www.inf.puc-rio.br/~lopes\n",
    "## Aluno: Leonardo Edelman Wajnsztok\n",
    "## Matrícula: 1312737\n",
    "\n",
    "# Exercícios resolvidos\n",
    "\n",
    "R1) Faça uma função que verique se uma matriz A de tamanho nxn é estritamente diagonal dominante:\n",
    "        Definição: Uma matriz A (nxn) é estritamente diagonal dominante se para toda linha i vale:\n",
    "                   $$|A_{i,i}| > \\sum_{i=1, i\\ne j}^n |A_{i,j}|$$\n",
    "                   \n",
    "R2) Implemente o método de Jacobi para a solução de um sistema de equações lineares. Defina um critério de parada para o seu método, e explique-o. \n",
    "        https://pt.wikipedia.org/wiki/M%C3%A9todo_de_Jacobi\n",
    "\n",
    "R3) Implemente o método de Gauss-Seidel para a solução de um sistema de equações lineares. Defina um critério de parada para o seu método, e explique-o.\n",
    "        https://pt.wikipedia.org/wiki/M%C3%A9todo_de_Gauss-Seidel\n",
    "\n",
    "## Lista 4\n",
    "\n",
    "1) Implemente o método de Gradiente Conjugado para a solução de um sistema de equações lineares. Defina um critério de parada para o seu método, e explique-o.\n",
    "        https://en.wikipedia.org/wiki/Conjugate_gradient_method\n",
    "\n",
    "2) Teste muito bem todos esses algoritmos!"
   ]
  },
  {
   "cell_type": "markdown",
   "metadata": {
    "collapsed": true,
    "deletable": true,
    "editable": true
   },
   "source": [
    "## Solução"
   ]
  },
  {
   "cell_type": "markdown",
   "metadata": {
    "deletable": true,
    "editable": true
   },
   "source": [
    "R1) Faça uma função que verique se uma matriz A de tamanho nxn é estritamente diagonal dominante: \n",
    "\n",
    "Definição: Uma matriz A (nxn) é estritamente diagonal dominante se para toda linha i vale:\n",
    "  $$|A_{i,i}| > \\sum_{i=1, i\\ne j}^n |A_{i,j}|$$\n",
    " \n"
   ]
  },
  {
   "cell_type": "code",
   "execution_count": 11,
   "metadata": {
    "collapsed": false,
    "deletable": true,
    "editable": true
   },
   "outputs": [
    {
     "name": "stdout",
     "output_type": "stream",
     "text": [
      "[[-2.  1.  0.]\n",
      " [ 1. -2.  1.]\n",
      " [ 0.  1. -2.]]\n",
      "False\n"
     ]
    }
   ],
   "source": [
    "import numpy as np\n",
    "import math\n",
    "\n",
    "def isdiagonaldominat(A):\n",
    "    n = len(A)\n",
    "    for i in range(n):\n",
    "        soma = 0.0\n",
    "        for j in range(n):\n",
    "            if (i != j):\n",
    "                a = A[i,j]\n",
    "                soma += math.fabs(a)\n",
    "        if (math.fabs(A[i,i]) <= soma):\n",
    "            return False\n",
    "    return True\n",
    "\n",
    "A = np.matrix([[-2.0,1.0,0.0],[1.0,-2.0,1.0],[0.0,1.0,-2.0]])\n",
    "print(A)\n",
    "print(isdiagonaldominat(A))\n"
   ]
  },
  {
   "cell_type": "markdown",
   "metadata": {
    "deletable": true,
    "editable": true
   },
   "source": [
    "R2) Implemente o método de Jacobi para a solução de um sistema de equações lineares. Defina um critério de parada para o seu método, e explique-o. https://pt.wikipedia.org/wiki/M%C3%A9todo_de_Jacobi"
   ]
  },
  {
   "cell_type": "code",
   "execution_count": 16,
   "metadata": {
    "collapsed": false,
    "deletable": true,
    "editable": true
   },
   "outputs": [
    {
     "name": "stdout",
     "output_type": "stream",
     "text": [
      "A:\n",
      "[[ 2.  1.]\n",
      " [ 5.  7.]]\n",
      "b:\n",
      "[ 11.  13.]\n",
      "x:\n",
      "[ 7.1111107  -3.22222137]\n",
      "||Ax-b||:\n",
      "3.92347242466e-06\n",
      "Numero de iteracoes:\n",
      "31\n"
     ]
    }
   ],
   "source": [
    "import numpy as np\n",
    "\n",
    "def jacobi(A,b,x0,N,TOL):\n",
    "\n",
    "    nlin = len(A); #num. de linhas\n",
    "    x = np.zeros(nlin); #cria x\n",
    "   \n",
    "    #iteracoes\n",
    "    k = 1;\n",
    "    while (k <= N):\n",
    "        #iteracao de Jacobi\n",
    "        for i in range(nlin):\n",
    "            x[i] = 0.0;\n",
    "            for j in range(i):\n",
    "                x[i] = x[i] - A[i,j]*x0[j]\n",
    "            for j in range(i+1,nlin):\n",
    "                x[i] = x[i] - A[i,j]*x0[j]\n",
    "            x[i] = (x[i] + b[i])/A[i,i]\n",
    "        #criterio de parada\n",
    "        if (np.linalg.norm(x-x0) < TOL):\n",
    "            return x,k\n",
    "        #prepara nova iteracao\n",
    "        k = k+1;\n",
    "        x0 = np.copy(x)\n",
    "    return x0,k\n",
    "\n",
    "\n",
    "A = np.matrix([[2.0,1.0],[5.0,7.0]])\n",
    "b = np.array([11.0,13.0])\n",
    "guess = np.array([1.0,1.0])\n",
    "\n",
    "sol,n = jacobi(A,b,guess,100,0.000001)\n",
    "\n",
    "print \"A:\"\n",
    "print(A)\n",
    "\n",
    "print \"b:\"\n",
    "print(b)\n",
    "\n",
    "print \"x:\"\n",
    "print(sol)\n",
    "\n",
    "print \"||Ax-b||:\"\n",
    "print(np.linalg.norm(A.dot(sol)-b))\n",
    "\n",
    "print \"Numero de iteracoes:\"\n",
    "print(n)\n"
   ]
  },
  {
   "cell_type": "markdown",
   "metadata": {
    "deletable": true,
    "editable": true
   },
   "source": [
    "R3) Implemente o método de Gauss-Seidel para a solução de um sistema de equações lineares. Defina um critério de parada para o seu método, e explique-o. https://pt.wikipedia.org/wiki/M%C3%A9todo_de_Gauss-Seidel"
   ]
  },
  {
   "cell_type": "code",
   "execution_count": 56,
   "metadata": {
    "collapsed": false,
    "deletable": true,
    "editable": true
   },
   "outputs": [
    {
     "name": "stdout",
     "output_type": "stream",
     "text": [
      "A:\n",
      "[[ 4.  1.]\n",
      " [ 1.  3.]]\n",
      "b:\n",
      "[ 1.  2.]\n",
      "x:\n",
      "[ 0.09090906  0.63636365]\n",
      "||Ax-b||:\n",
      "1.11632658895e-07\n",
      "Numero de iteracoes:\n",
      "7\n"
     ]
    }
   ],
   "source": [
    "import numpy as np\n",
    "\n",
    "def gaussseidel(A,b,x0,N,TOL):\n",
    "\n",
    "    nlin = len(A); #num. de linhas\n",
    "    x = np.zeros(nlin); #cria x\n",
    "   \n",
    "    #iteracoes\n",
    "    k = 1;\n",
    "    while (k <= N):\n",
    "        #iteracao de Jacobi\n",
    "        for i in range(nlin):\n",
    "            s = 0.0;\n",
    "            for j in range(i):\n",
    "                s = s + A[i,j]*x[j]\n",
    "            for j in range(i+1,nlin):\n",
    "                s = s + A[i,j]*x0[j]\n",
    "            x[i] = (b[i] - s)/A[i,i]\n",
    "        #criterio de parada\n",
    "        if (np.linalg.norm(x-x0) < TOL):\n",
    "            return x,k\n",
    "        #prepara nova iteracao\n",
    "        k = k+1;\n",
    "        x0 = np.copy(x)\n",
    "    return x0,k\n",
    "\n",
    "\n",
    "A = np.matrix([[4.0,1.0],[1.0,3.0]])\n",
    "b = np.array([1.0,2.0])\n",
    "guess = np.array([1.0,1.0])\n",
    "\n",
    "sol,n = gaussseidel(A,b,guess,100,0.000001)\n",
    "\n",
    "print \"A:\"\n",
    "print(A)\n",
    "\n",
    "print \"b:\"\n",
    "print(b)\n",
    "\n",
    "print \"x:\"\n",
    "print(sol)\n",
    "\n",
    "print \"||Ax-b||:\"\n",
    "print(np.linalg.norm(A.dot(sol)-b))\n",
    "\n",
    "print \"Numero de iteracoes:\"\n",
    "print(n)\n"
   ]
  },
  {
   "cell_type": "markdown",
   "metadata": {
    "collapsed": true,
    "deletable": true,
    "editable": true
   },
   "source": [
    "1) Implemente o método de Gradiente Conjugado para a solução de um sistema de equações lineares. Defina um critério de parada para o seu método, e explique-o."
   ]
  },
  {
   "cell_type": "code",
   "execution_count": 76,
   "metadata": {
    "collapsed": false,
    "deletable": true,
    "editable": true
   },
   "outputs": [
    {
     "name": "stdout",
     "output_type": "stream",
     "text": [
      "A:\n",
      "[[ 4.  1.  2.]\n",
      " [ 1.  3.  3.]\n",
      " [ 2.  3.  3.]]\n",
      "b:\n",
      "[[ 1.]\n",
      " [ 2.]\n",
      " [ 1.]]\n",
      "x:\n",
      "[[-1.]\n",
      " [-3.]\n",
      " [ 4.]]\n",
      "||Ax-b||:\n",
      "5.10219657327e-15\n",
      "Numero de iteracoes:\n",
      "4\n"
     ]
    }
   ],
   "source": [
    "import numpy as np\n",
    "\n",
    "def gradiente_conjugado(A,b,x0,N,TOL):\n",
    "\n",
    "    nlin = len(A)  #num. de linhas\n",
    "    x = np.copy(x0)  #cria x\n",
    "    r = (b) - A*x\n",
    "    p = np.copy(r)\n",
    "    rold = float(np.transpose(r) * r)\n",
    "\n",
    "    k = 1;\n",
    "    while (k <= N):\n",
    "        Ap = A * p\n",
    "        alpha = float(rold / (np.transpose(p) * Ap))\n",
    "        x = x + alpha * p\n",
    "        r = r - alpha * Ap\n",
    "        rnew = float(np.transpose(r) * r)\n",
    "        \n",
    "        #criterio de parada\n",
    "        if (np.linalg.norm(x-x0) < TOL):\n",
    "            return x,k\n",
    "        \n",
    "        #prepara nova iteracao\n",
    "        p = r + (rnew / rold) * p\n",
    "        rold = rnew\n",
    "        k = k+1;\n",
    "        x0 = np.copy(x)\n",
    "        \n",
    "    return x, k\n",
    "\n",
    "\n",
    "A = np.matrix([[4.0,1.0, 2.0],\n",
    "               [1.0,3.0, 3.0],\n",
    "               [2.0,3.0, 3.0]])\n",
    "b = np.matrix([[1.0],[2.0],[1.0]])\n",
    "guess = np.matrix([[1.0],[1.0], [1.0]])\n",
    "\n",
    "sol,n = gradiente_conjugado(A,b,guess,100,0.000001)\n",
    "\n",
    "print \"A:\"\n",
    "print(A)\n",
    "\n",
    "print \"b:\"\n",
    "print(b)\n",
    "\n",
    "print \"x:\"\n",
    "print(sol)\n",
    "\n",
    "print \"||Ax-b||:\"\n",
    "print(np.linalg.norm(A.dot(sol)-b))\n",
    "\n",
    "print \"Numero de iteracoes:\"\n",
    "print(n)\n"
   ]
  },
  {
   "cell_type": "code",
   "execution_count": null,
   "metadata": {
    "collapsed": false,
    "deletable": true,
    "editable": true
   },
   "outputs": [],
   "source": []
  },
  {
   "cell_type": "code",
   "execution_count": null,
   "metadata": {
    "collapsed": true,
    "deletable": true,
    "editable": true
   },
   "outputs": [],
   "source": []
  }
 ],
 "metadata": {
  "kernelspec": {
   "display_name": "Python 2",
   "language": "python",
   "name": "python2"
  },
  "language_info": {
   "codemirror_mode": {
    "name": "ipython",
    "version": 2
   },
   "file_extension": ".py",
   "mimetype": "text/x-python",
   "name": "python",
   "nbconvert_exporter": "python",
   "pygments_lexer": "ipython2",
   "version": "2.7.12"
  }
 },
 "nbformat": 4,
 "nbformat_minor": 0
}
