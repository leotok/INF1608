{
 "cells": [
  {
   "cell_type": "code",
   "execution_count": 4,
   "metadata": {
    "collapsed": false
   },
   "outputs": [
    {
     "name": "stdout",
     "output_type": "stream",
     "text": [
      "[[ 1.          0.          0.          0.        ]\n",
      " [ 1.          1.73205081  0.          0.        ]\n",
      " [ 1.          1.73205081  2.23606798  0.        ]\n",
      " [ 1.          1.73205081  2.23606798  3.        ]]\n",
      "[[  1.   1.   1.   1.]\n",
      " [  1.   4.   4.   4.]\n",
      " [  1.   4.   9.   9.]\n",
      " [  1.   4.   9.  18.]]\n",
      "[[  1.   1.   1.   1.]\n",
      " [  1.   4.   4.   4.]\n",
      " [  1.   4.   9.   9.]\n",
      " [  1.   4.   9.  18.]]\n"
     ]
    }
   ],
   "source": [
    "import numpy as np\n",
    "import math\n",
    "\n",
    "def Choleskydecomp(A):\n",
    "    L = np.copy(A)\n",
    "    n = len(A)\n",
    "    L[0][0] = math.sqrt(L[0,0]) \n",
    "    for j in range(n):\n",
    "        L[j][j] = L[j][j]\n",
    "        for k in range(j):\n",
    "            L[j][j] -= (L[j][k])**2\n",
    "        L[j][j] = math.sqrt(L[j][j])\n",
    "        for i in range(j+1,n):\n",
    "            L[i][j] = L[i][j]\n",
    "            for k in range(j):\n",
    "                L[i][j] -= L[i][k]*L[j][k]\n",
    "            L[i][j] /= L[j][j]\n",
    "    for i in range(n-1):\n",
    "        for j in range(i+1,n):\n",
    "            L[i][j] = 0.0\n",
    "    return L\n",
    "\n",
    "A = np.matrix([[1.0,1.0,1.0,1.0],[1.0,4.0,4.0,4.0],[1.0,4.0,9.0,9.0],[1.0,4.0,9.0,18.0]])\n",
    "L = Choleskydecomp(A)\n",
    "print(L)\n",
    "print(L.dot(np.transpose(L)))\n",
    "print(A)\n"
   ]
  },
  {
   "cell_type": "code",
   "execution_count": null,
   "metadata": {
    "collapsed": true
   },
   "outputs": [],
   "source": []
  }
 ],
 "metadata": {
  "kernelspec": {
   "display_name": "Python 2",
   "language": "python",
   "name": "python2"
  },
  "language_info": {
   "codemirror_mode": {
    "name": "ipython",
    "version": 2
   },
   "file_extension": ".py",
   "mimetype": "text/x-python",
   "name": "python",
   "nbconvert_exporter": "python",
   "pygments_lexer": "ipython2",
   "version": "2.7.12"
  }
 },
 "nbformat": 4,
 "nbformat_minor": 0
}
